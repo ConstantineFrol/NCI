{
 "cells": [
  {
   "cell_type": "markdown",
   "id": "22de77cd-298f-49fa-bbf9-d5a80592fc05",
   "metadata": {},
   "source": [
    "# String Processing"
   ]
  },
  {
   "cell_type": "markdown",
   "id": "275febbc-697b-4567-9e4d-5e627bf5e4b5",
   "metadata": {},
   "source": [
    "### CHECKING STRING CONTENTS"
   ]
  },
  {
   "cell_type": "markdown",
   "id": "8a8a2f13-40b0-4a1b-9a49-03785a3e2b7f",
   "metadata": {},
   "source": [
    "#### To check if all the characters in a string are upper case"
   ]
  },
  {
   "cell_type": "code",
   "execution_count": 10,
   "id": "9d10b00f-a84c-4972-bab5-2888ac415d48",
   "metadata": {},
   "outputs": [],
   "source": [
    "u = 'ABCDEF'\n",
    "l = 'abcedf'"
   ]
  },
  {
   "cell_type": "code",
   "execution_count": 8,
   "id": "b378dedb-b8aa-4548-b55a-5d8e1f0edf35",
   "metadata": {},
   "outputs": [
    {
     "data": {
      "text/plain": [
       "True"
      ]
     },
     "execution_count": 8,
     "metadata": {},
     "output_type": "execute_result"
    }
   ],
   "source": [
    "u.isupper()"
   ]
  },
  {
   "cell_type": "code",
   "execution_count": 12,
   "id": "c4709bca-c173-4276-a0c4-bd320f0bcdad",
   "metadata": {},
   "outputs": [
    {
     "data": {
      "text/plain": [
       "False"
      ]
     },
     "execution_count": 12,
     "metadata": {},
     "output_type": "execute_result"
    }
   ],
   "source": [
    "l.isupper()"
   ]
  },
  {
   "cell_type": "markdown",
   "id": "6486e238-3ff5-42cc-8fdf-c4b22c605a12",
   "metadata": {},
   "source": [
    "#### To check if all the characters in a string are lower case"
   ]
  },
  {
   "cell_type": "code",
   "execution_count": 15,
   "id": "c339f70d-596d-4405-a2d3-e295f2e55c78",
   "metadata": {},
   "outputs": [
    {
     "data": {
      "text/plain": [
       "False"
      ]
     },
     "execution_count": 15,
     "metadata": {},
     "output_type": "execute_result"
    }
   ],
   "source": [
    "u.islower()"
   ]
  },
  {
   "cell_type": "code",
   "execution_count": 17,
   "id": "d2615c49-11af-4d5e-8f4f-fb75634cf173",
   "metadata": {},
   "outputs": [
    {
     "data": {
      "text/plain": [
       "True"
      ]
     },
     "execution_count": 17,
     "metadata": {},
     "output_type": "execute_result"
    }
   ],
   "source": [
    "l.islower()"
   ]
  },
  {
   "cell_type": "markdown",
   "id": "dcde4e60-bc0a-49db-a9d7-c3cff1212505",
   "metadata": {},
   "source": [
    "#### To check if a string is in title case"
   ]
  },
  {
   "cell_type": "code",
   "execution_count": 21,
   "id": "5efe9cde-ab08-4c00-89b9-8aac2aa12619",
   "metadata": {},
   "outputs": [],
   "source": [
    "s = 'A String'\n",
    "w = ' \\t\\n'\n",
    "c = 'ABCDEF'"
   ]
  },
  {
   "cell_type": "code",
   "execution_count": 23,
   "id": "f29c3808-89b9-4965-98b9-4c78508dbee8",
   "metadata": {},
   "outputs": [
    {
     "data": {
      "text/plain": [
       "True"
      ]
     },
     "execution_count": 23,
     "metadata": {},
     "output_type": "execute_result"
    }
   ],
   "source": [
    "s.istitle()"
   ]
  },
  {
   "cell_type": "code",
   "execution_count": 25,
   "id": "dc24cecc-4b66-4c49-855e-753f5fec1fd8",
   "metadata": {},
   "outputs": [
    {
     "data": {
      "text/plain": [
       "False"
      ]
     },
     "execution_count": 25,
     "metadata": {},
     "output_type": "execute_result"
    }
   ],
   "source": [
    "c.istitle()"
   ]
  },
  {
   "cell_type": "markdown",
   "id": "061f714d-7170-41cc-abb8-592d442a256f",
   "metadata": {},
   "source": [
    "#### To check if all the characters in a string are whitespace characters"
   ]
  },
  {
   "cell_type": "code",
   "execution_count": 28,
   "id": "e27f8a7f-6bcf-44b2-9e30-87c1054ab23d",
   "metadata": {},
   "outputs": [
    {
     "data": {
      "text/plain": [
       "True"
      ]
     },
     "execution_count": 28,
     "metadata": {},
     "output_type": "execute_result"
    }
   ],
   "source": [
    "w.isspace()"
   ]
  },
  {
   "cell_type": "code",
   "execution_count": 30,
   "id": "b97df145-6370-402c-ae31-73164b011dc4",
   "metadata": {},
   "outputs": [
    {
     "data": {
      "text/plain": [
       "False"
      ]
     },
     "execution_count": 30,
     "metadata": {},
     "output_type": "execute_result"
    }
   ],
   "source": [
    "s.isspace()"
   ]
  },
  {
   "cell_type": "markdown",
   "id": "c08aa8d1-2dfa-43c2-959e-de5fca10dd5c",
   "metadata": {},
   "source": [
    "#### To check if a string starts with a specified substring"
   ]
  },
  {
   "cell_type": "code",
   "execution_count": 33,
   "id": "bd85efbb-9556-4fa7-af1b-15caad184e5c",
   "metadata": {},
   "outputs": [],
   "source": [
    "s1 = 'A String'\n",
    "s2 = 'A '\n",
    "s3 = 'ng'"
   ]
  },
  {
   "cell_type": "code",
   "execution_count": 35,
   "id": "13ee734a-3601-498e-8c35-b375e9d53fb3",
   "metadata": {},
   "outputs": [
    {
     "data": {
      "text/plain": [
       "True"
      ]
     },
     "execution_count": 35,
     "metadata": {},
     "output_type": "execute_result"
    }
   ],
   "source": [
    "s1.startswith(s2)"
   ]
  },
  {
   "cell_type": "code",
   "execution_count": 37,
   "id": "f7b57a74-f98c-47a6-9d65-2acd15f7b0b8",
   "metadata": {},
   "outputs": [
    {
     "data": {
      "text/plain": [
       "False"
      ]
     },
     "execution_count": 37,
     "metadata": {},
     "output_type": "execute_result"
    }
   ],
   "source": [
    "s1.startswith(s3)"
   ]
  },
  {
   "cell_type": "markdown",
   "id": "04c31101-b029-4ea6-9eed-4f5133eed506",
   "metadata": {},
   "source": [
    "#### To check if a string ends with a specified substring"
   ]
  },
  {
   "cell_type": "code",
   "execution_count": 40,
   "id": "97b1f71f-671c-40e9-ba22-2dd8dcae2c0e",
   "metadata": {},
   "outputs": [
    {
     "data": {
      "text/plain": [
       "False"
      ]
     },
     "execution_count": 40,
     "metadata": {},
     "output_type": "execute_result"
    }
   ],
   "source": [
    "s1.endswith(s2)"
   ]
  },
  {
   "cell_type": "code",
   "execution_count": 42,
   "id": "3a1f980f-de06-4b78-88d2-bf3691f37fe1",
   "metadata": {},
   "outputs": [
    {
     "data": {
      "text/plain": [
       "True"
      ]
     },
     "execution_count": 42,
     "metadata": {},
     "output_type": "execute_result"
    }
   ],
   "source": [
    "s1.endswith(s3)"
   ]
  },
  {
   "cell_type": "markdown",
   "id": "1b4ceed1-4f0a-461e-9da4-9e51e26bb43f",
   "metadata": {},
   "source": [
    "#### To check if a string contains only alphanumeric characters"
   ]
  },
  {
   "cell_type": "code",
   "execution_count": 45,
   "id": "099758b0-178b-4261-953c-96ed24fa4d36",
   "metadata": {},
   "outputs": [],
   "source": [
    "s = 'Result:\\t30'\n",
    "a = 'ABCDEF'\n",
    "n = '12345'"
   ]
  },
  {
   "cell_type": "code",
   "execution_count": 47,
   "id": "b63bdbcd-100c-4082-8658-ce5aee4b5129",
   "metadata": {},
   "outputs": [
    {
     "data": {
      "text/plain": [
       "False"
      ]
     },
     "execution_count": 47,
     "metadata": {},
     "output_type": "execute_result"
    }
   ],
   "source": [
    "s.isalnum()"
   ]
  },
  {
   "cell_type": "code",
   "execution_count": 49,
   "id": "af4d7e51-985e-47ad-bd74-d279894c952a",
   "metadata": {},
   "outputs": [
    {
     "data": {
      "text/plain": [
       "True"
      ]
     },
     "execution_count": 49,
     "metadata": {},
     "output_type": "execute_result"
    }
   ],
   "source": [
    "a.isalnum()"
   ]
  },
  {
   "cell_type": "code",
   "execution_count": 51,
   "id": "22049ab2-9bc4-4692-8e5d-920a104107df",
   "metadata": {},
   "outputs": [
    {
     "data": {
      "text/plain": [
       "True"
      ]
     },
     "execution_count": 51,
     "metadata": {},
     "output_type": "execute_result"
    }
   ],
   "source": [
    "n.isalnum()"
   ]
  },
  {
   "cell_type": "markdown",
   "id": "141bc688-5cb8-44fc-abff-c2c2a9bc5a5d",
   "metadata": {},
   "source": [
    "####  To check if a string contains only alphabetic characters"
   ]
  },
  {
   "cell_type": "code",
   "execution_count": 54,
   "id": "7de68478-cd05-45b0-99ca-6fd47099504a",
   "metadata": {},
   "outputs": [],
   "source": [
    "s = 'Result:\\t30'\n",
    "a = 'ABCDEF'\n",
    "n = '12345'"
   ]
  },
  {
   "cell_type": "code",
   "execution_count": 56,
   "id": "d396102b-0d14-4bc4-9f13-e2d8ced5596d",
   "metadata": {},
   "outputs": [
    {
     "data": {
      "text/plain": [
       "False"
      ]
     },
     "execution_count": 56,
     "metadata": {},
     "output_type": "execute_result"
    }
   ],
   "source": [
    "s.isalpha()"
   ]
  },
  {
   "cell_type": "code",
   "execution_count": 58,
   "id": "3bc65300-c159-48b2-ba28-20c9504e64f4",
   "metadata": {},
   "outputs": [
    {
     "data": {
      "text/plain": [
       "True"
      ]
     },
     "execution_count": 58,
     "metadata": {},
     "output_type": "execute_result"
    }
   ],
   "source": [
    "a.isalpha()"
   ]
  },
  {
   "cell_type": "code",
   "execution_count": 60,
   "id": "69ebb6ee-21e8-443c-b9b8-2331ed2f58fb",
   "metadata": {},
   "outputs": [
    {
     "data": {
      "text/plain": [
       "False"
      ]
     },
     "execution_count": 60,
     "metadata": {},
     "output_type": "execute_result"
    }
   ],
   "source": [
    "n.isalpha()"
   ]
  },
  {
   "cell_type": "markdown",
   "id": "88ac1df9-4977-4367-9683-ecba912647dd",
   "metadata": {},
   "source": [
    "#### To check if a string contains only numeric characters"
   ]
  },
  {
   "cell_type": "code",
   "execution_count": 63,
   "id": "50fa2a1a-dddb-4713-83c5-e96bffa99402",
   "metadata": {},
   "outputs": [],
   "source": [
    "f = '12.345'\n",
    "a = 'ABCDEF'\n",
    "n = '12345'"
   ]
  },
  {
   "cell_type": "code",
   "execution_count": 65,
   "id": "bc1bd58e-caef-4343-b070-32a5f67054a4",
   "metadata": {},
   "outputs": [
    {
     "data": {
      "text/plain": [
       "False"
      ]
     },
     "execution_count": 65,
     "metadata": {},
     "output_type": "execute_result"
    }
   ],
   "source": [
    "f.isnumeric()"
   ]
  },
  {
   "cell_type": "code",
   "execution_count": 67,
   "id": "69915b06-3a97-46bb-ba49-f4119d8d66e6",
   "metadata": {},
   "outputs": [
    {
     "data": {
      "text/plain": [
       "False"
      ]
     },
     "execution_count": 67,
     "metadata": {},
     "output_type": "execute_result"
    }
   ],
   "source": [
    "a.isnumeric()"
   ]
  },
  {
   "cell_type": "code",
   "execution_count": 69,
   "id": "86a1841d-fe5f-48ec-990b-13c037191dc7",
   "metadata": {},
   "outputs": [
    {
     "data": {
      "text/plain": [
       "True"
      ]
     },
     "execution_count": 69,
     "metadata": {},
     "output_type": "execute_result"
    }
   ],
   "source": [
    "n.isnumeric()"
   ]
  },
  {
   "cell_type": "markdown",
   "id": "9d74b21d-cc59-4749-a689-e7ccdb177666",
   "metadata": {},
   "source": [
    "## JOINING ITERABLES INTO A STRING"
   ]
  },
  {
   "cell_type": "markdown",
   "id": "f7c4152c-bb91-4993-91ae-0606332cb8dd",
   "metadata": {},
   "source": [
    "#### To join all items in a collection (iterable), call the join method on a string\n",
    "representing the desired separator"
   ]
  },
  {
   "cell_type": "code",
   "execution_count": 74,
   "id": "d1711319-8f67-4e82-baf9-e804d3c85e75",
   "metadata": {},
   "outputs": [
    {
     "data": {
      "text/plain": [
       "'red;green;blue'"
      ]
     },
     "execution_count": 74,
     "metadata": {},
     "output_type": "execute_result"
    }
   ],
   "source": [
    "colours = ['red','green','blue']\n",
    "';'.join(colours)"
   ]
  },
  {
   "cell_type": "code",
   "execution_count": 80,
   "id": "627c904d-8f72-440f-b617-26c4d5216312",
   "metadata": {},
   "outputs": [],
   "source": [
    "# Note that the elements of the collection must be strings\n",
    "\n",
    "# numbers = [1,2,3,4,5]\n",
    "# ' '.join(numbers)\n",
    "\n",
    "# This will throw an error:\n",
    "# TypeError: sequence item 0: expected str instance, int found"
   ]
  },
  {
   "cell_type": "code",
   "execution_count": 78,
   "id": "bcbfd9e4-1bfe-4731-893b-b7a9ecbad710",
   "metadata": {},
   "outputs": [
    {
     "data": {
      "text/plain": [
       "'1 2 3 4 5'"
      ]
     },
     "execution_count": 78,
     "metadata": {},
     "output_type": "execute_result"
    }
   ],
   "source": [
    "numbers = ['1','2','3','4','5']\n",
    "' '.join(numbers)"
   ]
  },
  {
   "cell_type": "markdown",
   "id": "318287c4-277f-41d0-bc58-180e2979c5d1",
   "metadata": {},
   "source": [
    "## SPLITTING STRINGS"
   ]
  },
  {
   "cell_type": "code",
   "execution_count": 83,
   "id": "de225e92-41ca-4b42-a531-0d41b2b868be",
   "metadata": {},
   "outputs": [
    {
     "name": "stdout",
     "output_type": "stream",
     "text": [
      "['Split', 'this', 'string', 'into', 'words']\n"
     ]
    }
   ],
   "source": [
    "\"\"\" A string can be split into a list, with the split taking place on every occurrence\n",
    "of a given character, as follows:\n",
    "\"\"\"\n",
    "s = 'Split this string into words'\n",
    "print(s.split())"
   ]
  },
  {
   "cell_type": "markdown",
   "id": "23954006-aae8-4adf-b1a5-20faa985e213",
   "metadata": {},
   "source": [
    "## PARTITIONING STRINGS"
   ]
  },
  {
   "cell_type": "code",
   "execution_count": 90,
   "id": "5dc02df3-da9a-472e-a57d-a8148153f672",
   "metadata": {},
   "outputs": [
    {
     "name": "stdout",
     "output_type": "stream",
     "text": [
      "('This string will be ', 'partitioned', ' into 3 strings')\n"
     ]
    }
   ],
   "source": [
    "\"\"\"\n",
    "Similar to splitting a string, partitioning will break a string up into a three-\n",
    "element tuple, containing:\n",
    "• The part of the string before the first match;\n",
    "• The first match; and\n",
    "• The part of the string after the first match.\n",
    "\"\"\"\n",
    "s1 = 'This string will be partitioned into 3 strings'\n",
    "s2 = s1.partition('partitioned')\n",
    "print(s2)"
   ]
  },
  {
   "cell_type": "markdown",
   "id": "41debc81-48a6-4535-b477-40f6c44b9a1d",
   "metadata": {},
   "source": [
    "## REPLACING STRINGS"
   ]
  },
  {
   "cell_type": "code",
   "execution_count": 95,
   "id": "e6d65230-3574-4ad9-865e-f06a0cb5ee83",
   "metadata": {},
   "outputs": [
    {
     "name": "stdout",
     "output_type": "stream",
     "text": [
      "An error and another error\n"
     ]
    }
   ],
   "source": [
    "\"\"\"\n",
    "To replace every occurrence of a given substring within a string, we use the replace()\n",
    "method. This takes two mandatory arguments, the first is the string that should be\n",
    "matched and the second is the replacement string.\n",
    "\"\"\"\n",
    "s1 = 'An errror and another errror'\n",
    "s2 = s1.replace('errror','error')\n",
    "print(s2)"
   ]
  },
  {
   "cell_type": "code",
   "execution_count": 103,
   "id": "c5be6ee0-2c20-4a0f-90b2-86ee214bb17a",
   "metadata": {},
   "outputs": [
    {
     "name": "stdout",
     "output_type": "stream",
     "text": [
      "An error and another errror\n"
     ]
    }
   ],
   "source": [
    "\"\"\"\n",
    "We can use a third optional argument specify the number of replacements to make\n",
    "\"\"\"\n",
    "s1 = 'An errror and another errror'\n",
    "s2 = s1.replace('errror','error',1) # Replace only first match\n",
    "print(s2)"
   ]
  },
  {
   "cell_type": "markdown",
   "id": "0e61869f-6513-4716-9ece-f1d74b9a4f1a",
   "metadata": {},
   "source": [
    "## LEFT-JUSTIFYING STRINGS"
   ]
  },
  {
   "cell_type": "code",
   "execution_count": 106,
   "id": "2622d3e3-3a2e-4ea6-ab18-5bfc23de49b3",
   "metadata": {},
   "outputs": [
    {
     "data": {
      "text/plain": [
       "'Data Analytics      '"
      ]
     },
     "execution_count": 106,
     "metadata": {},
     "output_type": "execute_result"
    }
   ],
   "source": [
    "\"\"\"\n",
    "o left justify a string, padding the right hand side of the string with spaces, use\n",
    "the ljust() method. The mandatory argument specifies the final width of the string\n",
    "\"\"\"\n",
    "s1 = 'Data Analytics'\n",
    "s2 = s1.ljust(20)\n",
    "s2"
   ]
  },
  {
   "cell_type": "code",
   "execution_count": 120,
   "id": "4a447a5f-e531-4e63-b714-df984a5ec7ef",
   "metadata": {},
   "outputs": [
    {
     "name": "stdout",
     "output_type": "stream",
     "text": [
      "Data Analytics------, \n",
      "total num of char:20\n"
     ]
    }
   ],
   "source": [
    "\"\"\"\n",
    "Using a second (optional) argument, we can also specify a character to be used\n",
    "for padding the string\n",
    "\"\"\"\n",
    "s1 = 'Data Analytics'\n",
    "s2 = s1.ljust(20,'-')\n",
    "print (f'{s2}, \\ntotal num of char:{len(s2)}')"
   ]
  },
  {
   "cell_type": "markdown",
   "id": "79650357-07fd-4c42-9c1e-38b40fe56e17",
   "metadata": {},
   "source": [
    "## RIGHT-JUSTIFYING STRINGS"
   ]
  },
  {
   "cell_type": "code",
   "execution_count": 123,
   "id": "1d585ebb-533c-4db3-87ed-95000379fd8f",
   "metadata": {},
   "outputs": [
    {
     "data": {
      "text/plain": [
       "'      Data Analytics'"
      ]
     },
     "execution_count": 123,
     "metadata": {},
     "output_type": "execute_result"
    }
   ],
   "source": [
    "\"\"\"\n",
    "To right justify a string, padding the left hand side of the string with spaces, use\n",
    "the rjust() method. The mandatory argument specifies the final width of the string\n",
    "\"\"\"\n",
    "s1 = 'Data Analytics'\n",
    "s2 = s1.rjust(20)\n",
    "s2"
   ]
  },
  {
   "cell_type": "code",
   "execution_count": 125,
   "id": "0c2610d1-63a0-47bf-b04e-d54636aec3b9",
   "metadata": {},
   "outputs": [
    {
     "data": {
      "text/plain": [
       "'------Data Analytics'"
      ]
     },
     "execution_count": 125,
     "metadata": {},
     "output_type": "execute_result"
    }
   ],
   "source": [
    "\"\"\"\n",
    "Using a second (optional) argument, we can also specify a character to be used\n",
    "for padding the string\n",
    "\"\"\"\n",
    "s1 = 'Data Analytics'\n",
    "s2 = s1.rjust(20,'-')\n",
    "s2"
   ]
  },
  {
   "cell_type": "markdown",
   "id": "f4a3e823-1d17-4b32-b09f-a9894caacb3b",
   "metadata": {},
   "source": [
    "## CENTERING STRINGS"
   ]
  },
  {
   "cell_type": "code",
   "execution_count": 128,
   "id": "5de5f862-4af6-483c-8578-994fcfb31888",
   "metadata": {},
   "outputs": [
    {
     "data": {
      "text/plain": [
       "'   Data Analytics   '"
      ]
     },
     "execution_count": 128,
     "metadata": {},
     "output_type": "execute_result"
    }
   ],
   "source": [
    "\"\"\"\n",
    "To centre a string, padding the both the left and right hand sides of the string with\n",
    "spaces, use the center() method. The mandatory argument specifies the final width of\n",
    "the string\n",
    "\"\"\"\n",
    "s1 = 'Data Analytics'\n",
    "s2 = s1.center(20)\n",
    "s2"
   ]
  },
  {
   "cell_type": "code",
   "execution_count": null,
   "id": "7e34bda1-bef2-49f6-8583-b1d376accb3b",
   "metadata": {},
   "outputs": [],
   "source": [
    "\"\"\"\n",
    "Using a second (optional) argument, we can also specify a character to be used for\n",
    "padding the string\n",
    "\"\"\"\n"
   ]
  },
  {
   "cell_type": "code",
   "execution_count": 130,
   "id": "dd1cd685-7071-4f00-9b17-360d79f92123",
   "metadata": {},
   "outputs": [
    {
     "data": {
      "text/plain": [
       "'---Data Analytics---'"
      ]
     },
     "execution_count": 130,
     "metadata": {},
     "output_type": "execute_result"
    }
   ],
   "source": [
    "s1 = 'Data Analytics'\n",
    "s2 = s1.center(20,'-')\n",
    "s2"
   ]
  },
  {
   "cell_type": "markdown",
   "id": "4fb0b08b-552a-4581-a2c4-bc8fe4036001",
   "metadata": {},
   "source": [
    "# BASIC FILE ACCESS - OPENING A FILE"
   ]
  },
  {
   "cell_type": "markdown",
   "id": "393b8393-abc5-47b1-99bc-4ec8b3b0e3b8",
   "metadata": {},
   "source": [
    "The open() function returns a file object, otherwise known as a file handle, and takes\n",
    "two arguments: filename and mode.\n",
    "• The mode argument specifies how the file should be opened and takes one of the following values.\n",
    "</br>\n",
    "* r - the opened file can only be read from and not written to.\n",
    "</br>\n",
    "* w - the opened file can only be written to.\n",
    "</br>\n",
    "* a - the opened file can be written to with any new data being appended to the data already in the file.\n",
    "</br>\n",
    "* r+ - the opened file can be both read from and written to.\n",
    "  </br>\n",
    "* x - creates the specified file if it does not already exist and returns \n",
    "an error if the file exists."
   ]
  },
  {
   "cell_type": "code",
   "execution_count": 146,
   "id": "f3fa5007-2756-48a4-8b61-046ccf776c5e",
   "metadata": {},
   "outputs": [
    {
     "data": {
      "text/plain": [
       "'\\nThe write() writes the contents of string to the file, returning the number of characters\\nwritten.\\n• Other types of objects need to be converted, either to a string (in text mode) or a bytes object\\n(in binary mode), before writing them to the file.\\n'"
      ]
     },
     "execution_count": 146,
     "metadata": {},
     "output_type": "execute_result"
    }
   ],
   "source": [
    "\"\"\"\n",
    "The write() writes the contents of string to the file, returning the number of characters\n",
    "written.\n",
    "• Other types of objects need to be converted, either to a string (in text mode) or a bytes object\n",
    "(in binary mode), before writing them to the file.\n",
    "\"\"\"\n",
    "# value = ('the answer', 42)\n",
    "# my_file.write(str(value))"
   ]
  },
  {
   "cell_type": "code",
   "execution_count": 150,
   "id": "d806d98f-976f-454e-ae57-b126741f5af0",
   "metadata": {},
   "outputs": [
    {
     "data": {
      "text/plain": [
       "'\\n• The tell() method is used to discover the current file position in a file stream. The current file\\nposition can be altered with the seek() method.\\n'"
      ]
     },
     "execution_count": 150,
     "metadata": {},
     "output_type": "execute_result"
    }
   ],
   "source": [
    "\"\"\"\n",
    "• The tell() method is used to discover the current file position in a file stream. The current file\n",
    "position can be altered with the seek() method.\n",
    "\"\"\"\n",
    "# f = open(\"myfile.txt\", \"r\")\n",
    "# print(f.tell())\n",
    "# print(f.readline())\n",
    "# print(f.tell())\n",
    "# f.seek(f.tell()+2)\n",
    "# print(f.tell())"
   ]
  },
  {
   "cell_type": "code",
   "execution_count": 152,
   "id": "cb73b92d-b87e-4edd-96a8-36ae28fe6289",
   "metadata": {},
   "outputs": [
    {
     "data": {
      "text/plain": [
       "'\\nThe tell() method is used to discover the current file position in a file stream:\\n'"
      ]
     },
     "execution_count": 152,
     "metadata": {},
     "output_type": "execute_result"
    }
   ],
   "source": [
    "\"\"\"\n",
    "The tell() method is used to discover the current file position in a file stream:\n",
    "\"\"\"\n",
    "# f = open(\"myfile.txt\", \"r\")\n",
    "# print(f.tell())\n",
    "# print(f.readline())\n",
    "# print(f.tell())"
   ]
  },
  {
   "cell_type": "code",
   "execution_count": 156,
   "id": "00e07c47-dc9b-467a-8f83-172fc185b91e",
   "metadata": {},
   "outputs": [
    {
     "data": {
      "text/plain": [
       "'\\nThe current file position can be altered with the seek() method:\\n'"
      ]
     },
     "execution_count": 156,
     "metadata": {},
     "output_type": "execute_result"
    }
   ],
   "source": [
    "\"\"\"\n",
    "The current file position can be altered with the seek() method:\n",
    "\"\"\"\n",
    "# f.seek(f.tell()+2)\n",
    "# print(f.tell())"
   ]
  },
  {
   "cell_type": "markdown",
   "id": "f435e449-e5d7-4d7c-8fea-390f7e3d6203",
   "metadata": {},
   "source": [
    "# FUNCTION"
   ]
  },
  {
   "cell_type": "markdown",
   "id": "3110eca6-3c59-47c2-9aa1-bd196f8b4e86",
   "metadata": {},
   "source": [
    "## THE YIELD KEYWORD"
   ]
  },
  {
   "cell_type": "code",
   "execution_count": 162,
   "id": "b6a70a1f-ceae-4ff5-91f2-966b7c3cf1fa",
   "metadata": {},
   "outputs": [],
   "source": [
    "\"\"\"\n",
    "* If we want our functions to return multiple values, for instance outputting\n",
    "a value for each iteration through a for or while loop, the return keyword\n",
    "is of no use to us. This is where the yield keyword comes in.\n",
    "* The example below will output each row in turn, as soon as it has split\n",
    "the row into columns:\n",
    "\"\"\"\n",
    "def csv_reader(file_name, file_mode, separator) :\n",
    "    for row in open(file_name, file_mode) :\n",
    "        yield row.split(separator)"
   ]
  },
  {
   "cell_type": "markdown",
   "id": "67b2d58c-da4a-4d01-a0c2-5c5a761de151",
   "metadata": {},
   "source": [
    "## DEFAULT FUNCTION ARGUMENTS"
   ]
  },
  {
   "cell_type": "code",
   "execution_count": 169,
   "id": "33c3f35e-521a-4fa2-9dc8-012a51867674",
   "metadata": {},
   "outputs": [],
   "source": [
    "\"\"\"\n",
    " In cases where a function can have sensible default values for one or more of\n",
    "its parameters, it is possible to supply these defaults as part of the function\n",
    "definition, avoiding the need to pass them each time the function is invoked.\n",
    "* When a value is not specified for one of these arguments, the default value will\n",
    "be used instead.\n",
    "* The example function below will take a character string as an argument and\n",
    "will either print it as is, or will print it in reverse.\n",
    "\"\"\"\n",
    "def newprint(text, how='asis') :\n",
    "    if how == 'asis' :\n",
    "        print(text)\n",
    "    elif how == 'reverse' :\n",
    "        print(text[::-1])\n",
    "    else:\n",
    "        raise ValueError(\"Invalid argument supplied for 'how' parameter\")"
   ]
  },
  {
   "cell_type": "code",
   "execution_count": 171,
   "id": "35fc519b-edae-498d-9f78-87ebaa68ba17",
   "metadata": {},
   "outputs": [
    {
     "name": "stdout",
     "output_type": "stream",
     "text": [
      "Hello World\n"
     ]
    }
   ],
   "source": [
    "newprint(\"Hello World\")"
   ]
  },
  {
   "cell_type": "code",
   "execution_count": 173,
   "id": "24a2fa34-32a6-4ab1-a13f-b9c60f7fad99",
   "metadata": {},
   "outputs": [
    {
     "name": "stdout",
     "output_type": "stream",
     "text": [
      "dlroW olleH\n"
     ]
    }
   ],
   "source": [
    "newprint(\"Hello World\",how = 'reverse')"
   ]
  },
  {
   "cell_type": "code",
   "execution_count": 177,
   "id": "5b0cb825-e1fa-4fed-a44d-b6afff3fc031",
   "metadata": {},
   "outputs": [],
   "source": [
    "# newprint(\"Hello World\",how = 'hide') # This will raise an error"
   ]
  },
  {
   "cell_type": "markdown",
   "id": "c609014a-df58-4490-993b-6151434f56d6",
   "metadata": {},
   "source": [
    "## MUTABLE DEFAULT ARGUMENTS"
   ]
  },
  {
   "cell_type": "code",
   "execution_count": 190,
   "id": "c67948ab-355e-41e0-b381-b795681e7436",
   "metadata": {},
   "outputs": [],
   "source": [
    "\"\"\"\n",
    "When using default arguments, you will need to pay special attention when\n",
    "mutable objects are passed as defaults.\n",
    "\"\"\"\n",
    "def add_list_to_list(new_elements, to=[]) :\n",
    "    to.extend(new_elements)\n",
    "    return to"
   ]
  },
  {
   "cell_type": "code",
   "execution_count": 192,
   "id": "add84687-ed49-41ea-9aea-c35449d5b516",
   "metadata": {},
   "outputs": [
    {
     "name": "stdout",
     "output_type": "stream",
     "text": [
      "[1, 2, 3]\n"
     ]
    }
   ],
   "source": [
    "\"\"\"\n",
    "As the default argument is an empty list, you might expect this code to return\n",
    "a new list each time the add_list_to_list() function is invoked without supplying\n",
    "the to argument. However, this is not what happens.\n",
    "\"\"\"\n",
    "list1 = add_list_to_list([1,2,3])\n",
    "print(list1)"
   ]
  },
  {
   "cell_type": "code",
   "execution_count": 194,
   "id": "33a76fd6-e3f9-42b8-b5b2-1216724efb4b",
   "metadata": {},
   "outputs": [
    {
     "name": "stdout",
     "output_type": "stream",
     "text": [
      "[1, 2, 3, 4, 5, 6]\n"
     ]
    }
   ],
   "source": [
    "list2 = add_list_to_list([4,5,6])\n",
    "print(list2)"
   ]
  },
  {
   "cell_type": "markdown",
   "id": "669197f5-9d3a-41f1-95b3-17d90d9c6f7d",
   "metadata": {},
   "source": [
    "## VARIADIC FUNCTIONS"
   ]
  },
  {
   "cell_type": "code",
   "execution_count": 197,
   "id": "a10b31b4-6cf7-4b58-8782-8a1ad0650461",
   "metadata": {},
   "outputs": [
    {
     "name": "stdout",
     "output_type": "stream",
     "text": [
      "Hello Hal\n",
      "Hello Frank\n"
     ]
    }
   ],
   "source": [
    "def send_message(message, *recipients) :\n",
    "    for recipient in recipients :\n",
    "        print(message+\" \"+recipient)\n",
    "\n",
    "\n",
    "send_message('Hello','Hal','Frank')"
   ]
  },
  {
   "cell_type": "code",
   "execution_count": 199,
   "id": "7ff90fd4-9bf6-4ffb-8be9-d0e56fe29a1c",
   "metadata": {},
   "outputs": [
    {
     "name": "stdout",
     "output_type": "stream",
     "text": [
      "Hello Hal\n",
      "Good morning Frank\n"
     ]
    }
   ],
   "source": [
    "\"\"\"\n",
    "It is also possible to pass arbitrary arguments using a dictionary or key=value\n",
    "format. This is achieved by putting two asterisks in front of the last parameter\n",
    "in the parameter list and then passing in the values as if they were named\n",
    "arguments.\n",
    "\"\"\"\n",
    "def say_hello(**recipients) :\n",
    "    for recipient,greeting in recipients.items() :\n",
    "        print('{0} {1}'.format(greeting,recipient))\n",
    "\n",
    "\n",
    "say_hello(Hal='Hello',Frank='Good morning')"
   ]
  },
  {
   "cell_type": "markdown",
   "id": "8f44f109-92f4-462c-a29d-d37a007ad31d",
   "metadata": {},
   "source": [
    "## ANONYMOUS OR LAMBDA FUNCTIONS"
   ]
  },
  {
   "cell_type": "markdown",
   "id": "cb230ff0-24f2-434a-beed-4cf1cffb0f21",
   "metadata": {},
   "source": [
    "* Inspired by the LISP language, a lambda function is an unnamed or\n",
    "anonymous function that can have any number of parameters, but is\n",
    "limited to one expression on a single line of code.\n",
    "* A lambda function is an expression, and not a statement, and because of\n",
    "this it can be used in parts of your code where a full function definition\n",
    "would not be permitted, such as inside list comprehensions or the arguments of a function call.\n",
    "* Unlike a regular function, a lambda expression will return automatically.\n",
    "* Because it is limited to a single expression, it is less expressive than a full function definition. By its very nature, we can only squeeze so much logic into a lambda body.\n",
    "* Lambda functions come into their own when used as an anonymous\n",
    "function inside a regular function.\n",
    "* For example, let’s assume that you have a function definition that takes\n",
    "one argument for the parameter n, and that the value supplied to this\n",
    "argument will be multiplied by an as yet unknown number."
   ]
  },
  {
   "cell_type": "code",
   "execution_count": 204,
   "id": "ae9fb5eb-4c00-40e5-9713-d9f720e751b5",
   "metadata": {},
   "outputs": [],
   "source": [
    "def multiplier(n) :\n",
    "    return lambda x : x * n"
   ]
  },
  {
   "cell_type": "code",
   "execution_count": 208,
   "id": "2f53b80b-ce81-4fa8-a106-92905aa6e3ce",
   "metadata": {},
   "outputs": [],
   "source": [
    "\"\"\"\n",
    "The function definition returned by the multiplier function can now be\n",
    "used, by supplying the values for the lambda argument x and giving them\n",
    "an identifier.\n",
    "\"\"\"\n",
    "doubler = multiplier(2)\n",
    "tripler = multiplier(3)"
   ]
  },
  {
   "cell_type": "code",
   "execution_count": 210,
   "id": "80ec293a-ab63-41ca-826f-1ddfedd52dfd",
   "metadata": {},
   "outputs": [
    {
     "name": "stdout",
     "output_type": "stream",
     "text": [
      "20\n"
     ]
    }
   ],
   "source": [
    "\"\"\"\n",
    "The identifiers doubler and tripler can now be used as standalone\n",
    "multiplication functions.\n",
    "\"\"\"\n",
    "print(doubler(10))"
   ]
  },
  {
   "cell_type": "code",
   "execution_count": 212,
   "id": "671e384f-3507-4184-a2c3-83d8f219f0dd",
   "metadata": {},
   "outputs": [
    {
     "name": "stdout",
     "output_type": "stream",
     "text": [
      "30\n"
     ]
    }
   ],
   "source": [
    "print(tripler(10))"
   ]
  },
  {
   "cell_type": "markdown",
   "id": "df9cddc5-ec67-4086-8407-258ab94e19bc",
   "metadata": {},
   "source": [
    "## THE MAP FUNCTION"
   ]
  },
  {
   "cell_type": "markdown",
   "id": "f85dc71e-2cf9-43fd-992a-413849544f4e",
   "metadata": {},
   "source": [
    "* The map function takes the name of a function and one or more iterable\n",
    "objects (collections) as its arguments.\n",
    "* It executes the function once for each item in the supplied collection(s)\n",
    "returning the results of those function calls as a new collection.\n",
    "* For example, consider the following loop-based code designed to replace a\n",
    "each string in a list with its hash and then print the list of hashes"
   ]
  },
  {
   "cell_type": "code",
   "execution_count": 218,
   "id": "cea468bc-1ae8-409b-ab7f-2e3b17695b0a",
   "metadata": {},
   "outputs": [
    {
     "name": "stdout",
     "output_type": "stream",
     "text": [
      "[-7458212390406729208, -5917981613259530386, 8080066058617023836]\n"
     ]
    }
   ],
   "source": [
    "names = ['Mary', 'Isla', 'Sam']\n",
    "for i in range(len(names)):\n",
    "    names[i] = hash(names[i])\n",
    "\n",
    "print(names)"
   ]
  },
  {
   "cell_type": "markdown",
   "id": "faaa074a-a92a-45c7-b775-0934260e08cb",
   "metadata": {},
   "source": [
    "* The loop-based code in the previous slide can also be expressed as"
   ]
  },
  {
   "cell_type": "code",
   "execution_count": 221,
   "id": "bd5dd4f1-fbe9-4f7c-8a1d-19ddb81f4dc1",
   "metadata": {},
   "outputs": [
    {
     "name": "stdout",
     "output_type": "stream",
     "text": [
      "[-7458212390406729208, -5917981613259530386, 8080066058617023836]\n"
     ]
    }
   ],
   "source": [
    "names = ['Mary', 'Isla', 'Sam']\n",
    "print(list(map(hash,names)))"
   ]
  },
  {
   "cell_type": "markdown",
   "id": "c2ac820a-c682-4a1f-bd23-23ababf3dd1e",
   "metadata": {},
   "source": [
    "* <b>Note</b> that the <u>returned map</u> object must be cast <u>as a list.</u>\n",
    "* This is because map uses lazy evaluation, where the returned values are\n",
    "only computed when they are accessed."
   ]
  },
  {
   "cell_type": "markdown",
   "id": "b573e6cd-af44-4021-a409-a5521ad10e77",
   "metadata": {},
   "source": [
    "## THE REDUCE FUNCTION"
   ]
  },
  {
   "cell_type": "markdown",
   "id": "a5d0c0c1-7a0f-4d2e-a336-552bed561cf1",
   "metadata": {},
   "source": [
    "* Like the map function, the reduce function also takes a function name and\n",
    "an iterable object as its arguments.\n",
    "* It returns a value, usually a scalar, which is created by combining or\n",
    "aggregating the items in the collection. The example below returns the\n",
    "maximum value from a list of values\n",
    "* Note that reduce() has now been moved out of the main Python\n",
    "namespace and into the package functools.\n",
    "* This is because there are better approaches to achieving the same\n",
    "functionality, such as the use of list comprehensions.\n",
    "* The reduce function can also be combined with operator functions such as\n",
    "add() or mul() to achieve the same functionality as is provided by lambda\n",
    "functions."
   ]
  },
  {
   "cell_type": "code",
   "execution_count": 228,
   "id": "661b9469-f9e4-47a6-bf84-c5d457f1ad4e",
   "metadata": {},
   "outputs": [
    {
     "name": "stdout",
     "output_type": "stream",
     "text": [
      "123\n"
     ]
    }
   ],
   "source": [
    "from functools import reduce\n",
    "valuelist = [42, 123, 42, 3, 50]\n",
    "print(reduce(lambda a,b : a if a > b else b, valuelist))"
   ]
  },
  {
   "cell_type": "markdown",
   "id": "0044f38f-ec84-4903-ba55-d39483d05468",
   "metadata": {},
   "source": [
    "## THE FILTER FUNCTION"
   ]
  },
  {
   "cell_type": "markdown",
   "id": "ff2990b6-96fb-40b7-aa3b-7aa784ca6ee4",
   "metadata": {},
   "source": [
    "* Like map() and reduce(), the filter() function also takes a function and an\n",
    "iterable object (such as a list) as arguments.\n",
    "* It provides a simple and elegant way to filter elements in the iterable\n",
    "object.\n",
    "* The function passed in as an argument must return a Boolean value and\n",
    "will be applied to each element in the iterable.\n",
    "* Those elements for which the function returns True are returned by the\n",
    "filter, those for which the function returns False are not."
   ]
  },
  {
   "cell_type": "code",
   "execution_count": 232,
   "id": "aaae23f2-3485-4082-babe-77685a19fb27",
   "metadata": {},
   "outputs": [
    {
     "name": "stdout",
     "output_type": "stream",
     "text": [
      "[10, 12, 14, 16, 18, 20, 22, 24, 26, 28, 30]\n"
     ]
    }
   ],
   "source": [
    "\"\"\"\n",
    "The example below filters a list of integers in the half open interval (10,31)\n",
    "to return only those that are even.\n",
    "\"\"\"\n",
    "print(list(filter(lambda x: x % 2 == 0, range(10, 31))))"
   ]
  },
  {
   "cell_type": "markdown",
   "id": "bbe38fe9-fd3c-4bd5-a117-6574ce2cb185",
   "metadata": {},
   "source": [
    "# INTERNET DATA"
   ]
  },
  {
   "cell_type": "markdown",
   "id": "b05b3bea-bfc1-46dc-9eec-a5705b6f67c0",
   "metadata": {},
   "source": [
    "## WELL-KNOWN XML SCHEMATA"
   ]
  },
  {
   "cell_type": "markdown",
   "id": "d9c83e82-ce75-4505-8a58-05f5f9675e5f",
   "metadata": {},
   "source": [
    "* Keyhole Markup Language (KML) is used to annotate geolocation data, and\n",
    "is used on sites such as Google Maps.\n",
    "* Mathematical Markup Language (MathML) is a way of including mathematical\n",
    "equations in HTML pages and other documents. It produces similar results\n",
    "to the equation environment in LATEX.\n",
    "* RSS - Really Simple Syndication and Atom are both used to provide real-\n",
    "time news feeds.\n",
    "* The Resource Description Framework is used to describe and model the\n",
    "information available from web resources.\n",
    "* Scalable Vector Graphics (SVG) is used to define portable vector-based\n",
    "images and animations that can be directly embedded in web pages.\n",
    "* Closer to our own particular field, the Data Documentation Initiative (DDI)\n",
    "is a standard for the production of machine-readable descriptions of\n",
    "statistical data files, surveys and questionnaires, as well as any processing or\n",
    "transformation carried out on these files.\n",
    "* The Statistical Data and Metadata eXchange (SDMX) is an initiative to\n",
    "achieve standardisation of the exchange of data between international and\n",
    "supra-national bodies."
   ]
  },
  {
   "cell_type": "markdown",
   "id": "ffab9adc-1194-44da-9326-b456f1aed7a2",
   "metadata": {},
   "source": [
    "## SERIALISATION AND DESERIALISATION"
   ]
  },
  {
   "cell_type": "markdown",
   "id": "2dc380e1-14e2-4367-b0fc-b1d8073ea21b",
   "metadata": {},
   "source": [
    "* XML, along with JSON, is often used as serialisation format.\n",
    "* Serialisation is the process of creating a file or stream-based representation\n",
    "of an object in a program so that it can be transported to another system.\n",
    "* Deserialisation is the process of converting the file or stream-based\n",
    "representation back into an object within a program running on the remote\n",
    "system.\n",
    "* Serialisation/Deserialisation (frequently shortened to SerDes ) allows for\n",
    "interaction between programs in a programming language-independent\n",
    "manner."
   ]
  },
  {
   "cell_type": "markdown",
   "id": "fe36c983-87e2-4d04-acbe-fab495c81a3e",
   "metadata": {},
   "source": [
    "## CREATING AN XML TREE IN PYTHON"
   ]
  },
  {
   "cell_type": "code",
   "execution_count": 242,
   "id": "e1c85b8a-4264-4db3-b163-3a1100685a16",
   "metadata": {},
   "outputs": [],
   "source": [
    "import xml.etree.ElementTree as ET\n",
    "data = '''<person>\n",
    "<name>Chuck</name>\n",
    "<phone type=\"intl\">+1 734 303 4456</phone>\n",
    "<email hide=\"yes\"/>\n",
    "</person>'''\n",
    "tree = ET.fromstring(data)"
   ]
  },
  {
   "cell_type": "code",
   "execution_count": 244,
   "id": "05e44e4e-2708-47be-8edf-6b6e0bd195d1",
   "metadata": {},
   "outputs": [
    {
     "name": "stdout",
     "output_type": "stream",
     "text": [
      "Name: Chuck\n"
     ]
    }
   ],
   "source": [
    "print('Name:',tree.find('name').text)"
   ]
  },
  {
   "cell_type": "code",
   "execution_count": 246,
   "id": "99a2532c-abcb-41ef-910b-bf976b4ce102",
   "metadata": {},
   "outputs": [
    {
     "name": "stdout",
     "output_type": "stream",
     "text": [
      "Attr: yes\n"
     ]
    }
   ],
   "source": [
    "print('Attr:',tree.find('email').get('hide'))"
   ]
  },
  {
   "cell_type": "markdown",
   "id": "8893e91f-99af-499d-b0a5-e6ae64fb096d",
   "metadata": {},
   "source": [
    "## NAVIGATING AN XML TREE IN PYTHON"
   ]
  },
  {
   "cell_type": "code",
   "execution_count": 257,
   "id": "af5efcdb-f175-450a-8a59-b32f74f70ed2",
   "metadata": {},
   "outputs": [
    {
     "name": "stdout",
     "output_type": "stream",
     "text": [
      "Name Chuck\n",
      "Id 001\n",
      "Attribute 2\n",
      "\n",
      "Name Brett\n",
      "Id 009\n",
      "Attribute 7\n",
      "\n"
     ]
    }
   ],
   "source": [
    "import xml.etree.ElementTree as ET\n",
    "input = '''<data><users>\n",
    "<user x=\"2\"><id>001</id><name>Chuck</name></user>\n",
    "<user x=\"7\"><id>009</id><name>Brett</name></user>\n",
    "</users></data>'''\n",
    "xmldata = ET.fromstring(input)\n",
    "userlist = xmldata.findall('users/user')\n",
    "for user in userlist:\n",
    "    print('Name', user.find('name').text)\n",
    "    print('Id', user.find('id').text)\n",
    "    print('Attribute', user.get(\"x\"))\n",
    "    print()\n"
   ]
  },
  {
   "cell_type": "markdown",
   "id": "894409bb-d8ae-4ca1-9da5-895399e75d3b",
   "metadata": {},
   "source": [
    "## LOADING WEB RESOURCES"
   ]
  },
  {
   "cell_type": "markdown",
   "id": "95db6f34-6a7d-470c-bd10-2f65fba5666b",
   "metadata": {},
   "source": [
    "* The Python module urllib can be used to interact with resources accessible\n",
    "through the internet."
   ]
  },
  {
   "cell_type": "code",
   "execution_count": 261,
   "id": "82ab92fc-b7d5-4024-b6df-9af89121136b",
   "metadata": {},
   "outputs": [],
   "source": [
    "import urllib.request\n",
    "response = urllib.request.urlopen('http://python.org/')\n",
    "html = response.read()\n",
    "html = str(html)"
   ]
  },
  {
   "cell_type": "markdown",
   "id": "642787f7-d74f-4884-b072-0047eecea175",
   "metadata": {},
   "source": [
    "* Polite crawlers should identify themselves using the User-Agent http header"
   ]
  },
  {
   "cell_type": "code",
   "execution_count": 264,
   "id": "39019360-1627-44d2-a312-f7a39fccd3ad",
   "metadata": {},
   "outputs": [],
   "source": [
    "request = urllib.request.Request('http://python.org/')\n",
    "request.add_header(\"User-Agent\", \"My Python Crawler\")\n",
    "opener = urllib.request.build_opener()\n",
    "response = opener.open(request) # make the http request"
   ]
  },
  {
   "cell_type": "markdown",
   "id": "31dbb2a0-cb34-4fac-bf2f-f779f6ec7e38",
   "metadata": {},
   "source": [
    "## CONSUMING WEB APIS"
   ]
  },
  {
   "cell_type": "markdown",
   "id": "10ffe393-7951-471a-a74b-aeade7e3f56a",
   "metadata": {},
   "source": [
    "* The code below uses the urllib library to fetch a list of public APIs from an open API. The JSON\n",
    "response is parsed to extract just the API names.\n",
    "* Note that this API does not require authentication. Any API that requires authentication will\n",
    "need additional code to handle that aspect of the communication."
   ]
  },
  {
   "cell_type": "code",
   "execution_count": 280,
   "id": "90acbf8c-5d85-4023-bb30-4457e183bd74",
   "metadata": {},
   "outputs": [],
   "source": [
    "import urllib.request\n",
    "import json\n",
    "\n",
    "# apis = []\n",
    "# url = 'https://api.publicapis.org/entries'\n",
    "\n",
    "# # Set the headers, including a User-Agent\n",
    "# headers = {'User-Agent': 'Mozilla/5.0'}\n",
    "\n",
    "# # Create the request with headers\n",
    "# req = urllib.request.Request(url, headers=headers)\n",
    "\n",
    "# # Open the URL and process the response\n",
    "# with urllib.request.urlopen(req) as response:\n",
    "#     parsed_json = json.loads(response.read())\n",
    "#     for item in parsed_json['entries']:\n",
    "#         apis.append(item['API'])\n",
    "\n",
    "# # Print the specified range of APIs\n",
    "# print(apis[30:34])\n",
    "\n"
   ]
  },
  {
   "cell_type": "markdown",
   "id": "838287b8-1097-4ed1-b57e-7c002c208026",
   "metadata": {},
   "source": [
    "## LOADING WEB RESOURCES"
   ]
  },
  {
   "cell_type": "markdown",
   "id": "f26e0b5f-4c10-45ad-a86a-d44633e9e20a",
   "metadata": {},
   "source": [
    "* We can retrieve the status for the request and various metadata for the page,\n",
    "such as the name of the server software and the content type of the returned\n",
    "resource:"
   ]
  },
  {
   "cell_type": "code",
   "execution_count": 286,
   "id": "5edb3fce-72b3-4dd4-a207-5a626415568f",
   "metadata": {},
   "outputs": [
    {
     "name": "stdout",
     "output_type": "stream",
     "text": [
      "The response code is 200\n",
      "The page is served by None\n",
      "The page has the content type text/html; charset=utf-8\n"
     ]
    }
   ],
   "source": [
    "import urllib.request\n",
    "respstring = 'The response code is {}'\n",
    "servstring = 'The page is served by {}'\n",
    "ctypestring = 'The page has the content type {}'\n",
    "with urllib.request.urlopen('http://python.org/') as response:\n",
    "    print(respstring.format(response.status))\n",
    "    print(servstring.format(response.headers['Server']))\n",
    "    print(ctypestring.format(response.headers['Content-Type']))"
   ]
  },
  {
   "cell_type": "markdown",
   "id": "2ef8f271-c622-4796-9dc5-a0c2d9b56919",
   "metadata": {},
   "source": [
    "## WEB SCRAPING"
   ]
  },
  {
   "cell_type": "markdown",
   "id": "ed94f822-c145-4eed-887f-56ce20e5fa46",
   "metadata": {},
   "source": [
    "Example using Beautiful Soup to extract data from Wikipedia"
   ]
  },
  {
   "cell_type": "code",
   "execution_count": 294,
   "id": "d0471c43-ca19-49b4-a57f-872329b636ab",
   "metadata": {},
   "outputs": [
    {
     "name": "stdout",
     "output_type": "stream",
     "text": [
      "    Rank       Country  Score\n",
      "0      1     Lithuania  7.795\n",
      "1      2        Israel  7.667\n",
      "2      3       Iceland  7.658\n",
      "3      4        Serbia  7.658\n",
      "4      5       Denmark  7.598\n",
      "..   ...           ...    ...\n",
      "139  141      Zimbabwe  3.295\n",
      "140  142         Congo  3.245\n",
      "141  143  Sierra Leone  3.186\n",
      "142  144       Lebanon  2.707\n",
      "143  145   Afghanistan  1.721\n",
      "\n",
      "[144 rows x 3 columns]\n"
     ]
    }
   ],
   "source": [
    "import urllib.request\n",
    "from bs4 import BeautifulSoup\n",
    "import pandas as pd\n",
    "\n",
    "# Fetch the webpage\n",
    "url = 'https://en.wikipedia.org/wiki/World_Happiness_Report'\n",
    "web_page = urllib.request.urlopen(url)\n",
    "parsed_data = BeautifulSoup(web_page, \"html.parser\")\n",
    "\n",
    "# Find the table\n",
    "table = parsed_data.find_all('table', {\"class\": \"wikitable sortable\"})[0]\n",
    "\n",
    "# Initialize lists to store the data\n",
    "rank, country, score = ([], [], [])\n",
    "\n",
    "# Iterate through rows of the table\n",
    "for row in table.findChildren('tr'):\n",
    "    cells = row.findChildren('td')\n",
    "    if len(cells) >= 3:  # Check for at least 3 columns to extract rank, country, score\n",
    "        rank.append(cells[0].text.strip())    # Rank is in the 1st column\n",
    "        country.append(cells[1].text.strip()) # Country is in the 2nd column\n",
    "        score.append(cells[2].text.strip())   # Score is in the 3rd column\n",
    "\n",
    "# Create the DataFrame\n",
    "country_df = pd.DataFrame(rank, columns=['Rank'])\n",
    "country_df['Country'] = country\n",
    "country_df['Score'] = score\n",
    "\n",
    "# Display the DataFrame\n",
    "print(country_df)\n"
   ]
  },
  {
   "cell_type": "markdown",
   "id": "8540e446-4f0b-4298-a987-ade0dafa80e4",
   "metadata": {},
   "source": [
    "# EXCEPTIONS AND ASSERTIONS"
   ]
  },
  {
   "cell_type": "markdown",
   "id": "1f52ce99-e572-41ee-bc54-dc350265e5e7",
   "metadata": {},
   "source": [
    "## BUILT-IN EXCEPTIONS"
   ]
  },
  {
   "cell_type": "markdown",
   "id": "1ab557b1-f946-4998-8bd8-89f354026a8d",
   "metadata": {},
   "source": [
    "* Python has built-in exceptions, for example:\n",
    "* ZeroDivisionError - thrown when an arithmetic operation\n",
    "involves a division by zero.\n",
    "* MemoryError - thrown when a program runs out of memory\n",
    "* OSError - thrown when an operating system error occurs, such\n",
    "as when a file can not be opened, read from or written to.\n",
    "* TypeError - thrown when an operation is applied to an object of\n",
    "an incorrect type.\n",
    "* See https://docs.python.org/3/library/exceptions.html for full details\n",
    "of Python's built-in exceptions."
   ]
  },
  {
   "cell_type": "markdown",
   "id": "9240614c-d6d4-4c0b-905d-7160f5e437d9",
   "metadata": {},
   "source": [
    "## TRY - EXCEPT CONSTRUCTS"
   ]
  },
  {
   "cell_type": "code",
   "execution_count": 303,
   "id": "4340ad83-46bb-4654-8b0f-a93fc077291d",
   "metadata": {},
   "outputs": [],
   "source": [
    "# try :\n",
    "#     statement block protected by exceptional handling\n",
    "# except :\n",
    "#     statement block to handle exceptions"
   ]
  },
  {
   "cell_type": "code",
   "execution_count": 309,
   "id": "d9ad98c5-bfcb-462f-9957-e4312cf25717",
   "metadata": {},
   "outputs": [],
   "source": [
    "# def getNumber():\n",
    "#     isnumber = False\n",
    "#     while not isnumber:\n",
    "#         try:\n",
    "#             num = float(input('Enter a number: '))\n",
    "#             isnumber = True\n",
    "#         except ValueError:\n",
    "#             print('You did not enter a number. Try again!')\n",
    "#     return num  # Return the valid number\n",
    "\n",
    "# # Store the returned value in s\n",
    "# s = getNumber()\n",
    "# print(\"The number you entered is:\", s)\n"
   ]
  },
  {
   "cell_type": "code",
   "execution_count": 311,
   "id": "dba0d779-60d3-4349-9586-b9311467136d",
   "metadata": {},
   "outputs": [
    {
     "name": "stdout",
     "output_type": "stream",
     "text": [
      "The file ./myfile.txt was not found.\n"
     ]
    }
   ],
   "source": [
    "try:\n",
    "    filepath = './myfile.txt'\n",
    "    with open(filepath, 'r') as fh:\n",
    "        lines = fh.readlines()\n",
    "except FileNotFoundError:\n",
    "    print('The file {} was not found.'.format(filepath))\n",
    "except IsADirectoryError:\n",
    "    print('{} is a directory.'.format(filepath))\n",
    "except PermissionError:\n",
    "    print('Insufficient permissions to open {}.'.format(filepath))\n",
    "else:\n",
    "    for line in lines:\n",
    "        print(line)\n"
   ]
  },
  {
   "cell_type": "markdown",
   "id": "720e1382-9d4c-4e24-99c5-831beece6109",
   "metadata": {},
   "source": [
    "#### OR"
   ]
  },
  {
   "cell_type": "code",
   "execution_count": 314,
   "id": "68e2c22f-cf89-465b-a1f5-60b1cebac6ee",
   "metadata": {},
   "outputs": [
    {
     "name": "stdout",
     "output_type": "stream",
     "text": [
      "The file ./myfile.txt was not found.\n"
     ]
    }
   ],
   "source": [
    "try:\n",
    "    filepath = './myfile.txt'\n",
    "    fh = open(filepath, 'r')\n",
    "    lines = fh.readlines()\n",
    "except FileNotFoundError:\n",
    "    print('The file {} was not found.'.format(filepath))\n",
    "else:\n",
    "    for line in lines:\n",
    "        print(line)\n",
    "finally:\n",
    "    # Ensure the file handle is closed if it was successfully opened\n",
    "    if 'fh' in locals():\n",
    "        fh.close()\n"
   ]
  },
  {
   "cell_type": "code",
   "execution_count": 316,
   "id": "69b65ff5-f2da-4aa6-ad6b-3f50f1eec174",
   "metadata": {},
   "outputs": [
    {
     "name": "stdout",
     "output_type": "stream",
     "text": [
      "An error occurred when opening the URL:\n",
      "<urlopen error [Errno -2] Name or service not known>\n"
     ]
    }
   ],
   "source": [
    "import urllib.request\n",
    "\n",
    "try:\n",
    "    response = urllib.request.urlopen('http://misspelledsite.com/')\n",
    "except urllib.error.URLError as e:\n",
    "    print('An error occurred when opening the URL:')\n",
    "    print(str(e))\n"
   ]
  },
  {
   "cell_type": "markdown",
   "id": "ee7ba2d3-eaf0-4838-9d88-d5bddc7debba",
   "metadata": {},
   "source": [
    "# REGULAR EXPRESSIONS"
   ]
  },
  {
   "cell_type": "markdown",
   "id": "efbc3a11-3897-421c-a635-a723cd384eee",
   "metadata": {},
   "source": [
    "* Ken Thompson, creator of the UNIX operating system, defines a regular\n",
    "expression as:\n",
    "\"... a pattern which specifies a set of strings of characters; it is said to\n",
    "match certain strings.\"\n",
    "* Regular expressions are sequences of characters used as patterns for\n",
    "matching parts of strings."
   ]
  },
  {
   "cell_type": "markdown",
   "id": "51cf3291-8f8a-48bd-be8c-5eb65ee723db",
   "metadata": {},
   "source": [
    "## REGULAR EXPRESSION FUNCTIONS"
   ]
  },
  {
   "cell_type": "code",
   "execution_count": 321,
   "id": "ddce1594-f263-4782-934a-a039778786fa",
   "metadata": {},
   "outputs": [
    {
     "data": {
      "text/plain": [
       "['1', '2', '3']"
      ]
     },
     "execution_count": 321,
     "metadata": {},
     "output_type": "execute_result"
    }
   ],
   "source": [
    "\"\"\"\n",
    "findall - returns a list containing all matches.\n",
    "\"\"\"\n",
    "import re\n",
    "re.findall('\\d','1 and 2 and 3')\n",
    "['1', '2', '3']"
   ]
  },
  {
   "cell_type": "code",
   "execution_count": 327,
   "id": "574eb5f6-eb32-48a5-aa44-e23131376dbb",
   "metadata": {},
   "outputs": [
    {
     "name": "stdout",
     "output_type": "stream",
     "text": [
      "<re.Match object; span=(4, 5), match='1'>\n"
     ]
    }
   ],
   "source": [
    "\"\"\"\n",
    "• search - returns the first match as a Match object.\n",
    "Note: this example uses the special sequence \\d, which will match any digit\n",
    "character.\n",
    "\"\"\"\n",
    "import re\n",
    "match = re.search('\\d','And 1 and 2 and 3')\n",
    "print(match)"
   ]
  },
  {
   "cell_type": "code",
   "execution_count": 331,
   "id": "d748a87f-31e5-441c-acee-632a2b5cfacb",
   "metadata": {},
   "outputs": [
    {
     "name": "stdout",
     "output_type": "stream",
     "text": [
      "['Regular', 'expressions', 'are', 'powerful']\n"
     ]
    }
   ],
   "source": [
    "\"\"\"\n",
    "• split - returns a list with the string split at each match\n",
    "Note: this example uses the special sequence \\s, which will\n",
    "match any whitespace character\n",
    "\"\"\"\n",
    "import re\n",
    "split = re.split('\\s','Regular\\texpressions are\\npowerful')\n",
    "print(split)"
   ]
  },
  {
   "cell_type": "code",
   "execution_count": 333,
   "id": "54d2d9bf-e3f1-4e2d-8bc3-fb527a341642",
   "metadata": {},
   "outputs": [
    {
     "name": "stdout",
     "output_type": "stream",
     "text": [
      "A and B and C and D\n"
     ]
    }
   ],
   "source": [
    "\"\"\"\n",
    "• sub - replaces one or more matches with a new string\n",
    "\"\"\"\n",
    "import re\n",
    "print(re.sub('or','and','A or B or C or D'))"
   ]
  },
  {
   "cell_type": "markdown",
   "id": "a6b3092e-798f-4daa-8b2a-6e29ca417c71",
   "metadata": {},
   "source": [
    "## METACHARACTERS"
   ]
  },
  {
   "cell_type": "markdown",
   "id": "8f68bbc9-13af-43c6-937d-95d0a021dc6f",
   "metadata": {},
   "source": [
    "* Metacharacters are characters in an expression that have a special meaning. [] square brackets are used to enclose a set of characters"
   ]
  },
  {
   "cell_type": "code",
   "execution_count": 338,
   "id": "0175f48a-e69a-48ec-b5fc-4ae1c9009461",
   "metadata": {},
   "outputs": [
    {
     "name": "stdout",
     "output_type": "stream",
     "text": [
      "['1', '4']\n"
     ]
    }
   ],
   "source": [
    "import re\n",
    "find = re.findall('[1,4,9]','1234568')\n",
    "print(find)"
   ]
  },
  {
   "cell_type": "code",
   "execution_count": 340,
   "id": "17dd7245-4877-4aef-b7b6-9d6524cd84c8",
   "metadata": {},
   "outputs": [
    {
     "name": "stdout",
     "output_type": "stream",
     "text": [
      "['a', 'b', 'c']\n"
     ]
    }
   ],
   "source": [
    "import re\n",
    "find = re.findall('[a-c]','eafbgc')\n",
    "print(find)"
   ]
  },
  {
   "cell_type": "markdown",
   "id": "59a5b9be-635e-416a-acb8-9b6f8817ff25",
   "metadata": {},
   "source": [
    "- ( . ) matches any single character.\n",
    "- ( ^ ) matches the start of a string\n",
    "- ( $ ) matches the end of a string\n",
    "- ( * ) matches zero or more occurrences of a string or special character.\n",
    "- ( + ) matches one or more occurrences of a string or special character.\n",
    "- ( {} ) matches the exact number of occurrences of a string or special character.\n",
    "- ( | ) matches either one or both of the strings or special characters on either side.\n",
    "- ( \\A ) - matches if the specified characters occur at the start of a string.\n",
    "- ( \\D ) - matches any character that is not a decimal digit.\n",
    "- ( \\w ) - Matches any word characters (alphanumeric characters) or the underscore.\n",
    "- ( \\b ) - matches a string or special character when it occurs at a word boundary"
   ]
  },
  {
   "cell_type": "code",
   "execution_count": 344,
   "id": "ba69c352-647e-45e7-bcb5-2ff6227c2320",
   "metadata": {},
   "outputs": [
    {
     "name": "stdout",
     "output_type": "stream",
     "text": [
      "['Th']\n"
     ]
    }
   ],
   "source": [
    "import re\n",
    "find = re.findall('^..','The quick brown fox')\n",
    "print(find)"
   ]
  },
  {
   "cell_type": "code",
   "execution_count": 346,
   "id": "94c3f38a-0aaa-46f6-ae99-50df458178e9",
   "metadata": {},
   "outputs": [
    {
     "name": "stdout",
     "output_type": "stream",
     "text": [
      "['again']\n"
     ]
    }
   ],
   "source": [
    "import re\n",
    "find = re.findall('again$','Again and again and again')\n",
    "print(find)"
   ]
  },
  {
   "cell_type": "code",
   "execution_count": 353,
   "id": "5485af1c-3a59-42de-bbc1-216c5ee3d837",
   "metadata": {},
   "outputs": [
    {
     "name": "stdout",
     "output_type": "stream",
     "text": [
      "['ga', 'ga', 'ga']\n"
     ]
    }
   ],
   "source": [
    "import re\n",
    "find = re.findall('gan*','Again and again and again')\n",
    "print(find)"
   ]
  },
  {
   "cell_type": "code",
   "execution_count": 355,
   "id": "3bfbc24e-e691-47b7-987a-47b072143b6e",
   "metadata": {},
   "outputs": [
    {
     "name": "stdout",
     "output_type": "stream",
     "text": [
      "['gai', 'gai', 'gai']\n"
     ]
    }
   ],
   "source": [
    "import re\n",
    "find = re.findall('gai+','Again and again and again')\n",
    "print(find)"
   ]
  },
  {
   "cell_type": "code",
   "execution_count": 357,
   "id": "11d69dcb-c288-42f1-ba6a-fb28cb42557f",
   "metadata": {},
   "outputs": [
    {
     "name": "stdout",
     "output_type": "stream",
     "text": [
      "['oo', 'll']\n"
     ]
    }
   ],
   "source": [
    "import re\n",
    "find = re.findall('[l,o]{2}','We always watch football')\n",
    "print(find)"
   ]
  },
  {
   "cell_type": "code",
   "execution_count": 359,
   "id": "e7f9614b-6633-4a8b-bfcd-ae000c182036",
   "metadata": {},
   "outputs": [
    {
     "name": "stdout",
     "output_type": "stream",
     "text": [
      "['always', 'football', 'cricket']\n"
     ]
    }
   ],
   "source": [
    "import re\n",
    "s = 'We always watch football or cricket'\n",
    "find = re.findall('always|football|cricket',s)\n",
    "print(find)"
   ]
  },
  {
   "cell_type": "code",
   "execution_count": 361,
   "id": "431dd116-0e92-4859-a544-6f477307924e",
   "metadata": {},
   "outputs": [
    {
     "name": "stdout",
     "output_type": "stream",
     "text": [
      "['The']\n"
     ]
    }
   ],
   "source": [
    "import re\n",
    "find = re.findall('\\AThe','The quick brown fox. The lazy dog')\n",
    "print(find)"
   ]
  },
  {
   "cell_type": "code",
   "execution_count": 363,
   "id": "9a19e270-25c3-4278-b56d-fef801370ca4",
   "metadata": {},
   "outputs": [
    {
     "name": "stdout",
     "output_type": "stream",
     "text": [
      "[' ', 'a', 'n', 'd', ' ', ' ', 'o', 'r', ' ']\n"
     ]
    }
   ],
   "source": [
    "import re\n",
    "find = re.findall('\\D','1 and 2 or 3')\n",
    "print(find)"
   ]
  },
  {
   "cell_type": "code",
   "execution_count": 365,
   "id": "fb94850d-e7aa-47d9-b92a-48320438dd61",
   "metadata": {},
   "outputs": [
    {
     "name": "stdout",
     "output_type": "stream",
     "text": [
      "['A', 'a', 'b', 'c', 'C', '_']\n"
     ]
    }
   ],
   "source": [
    "import re\n",
    "s = '!AabcC&_'\n",
    "find = re.findall(r'\\w',s)\n",
    "print(find)"
   ]
  },
  {
   "cell_type": "code",
   "execution_count": 367,
   "id": "0ecece4c-59fe-4fa7-ba36-b9bc21852e9c",
   "metadata": {},
   "outputs": [
    {
     "name": "stdout",
     "output_type": "stream",
     "text": [
      "['al']\n"
     ]
    }
   ],
   "source": [
    "import re\n",
    "s = 'We always watch football or cricket'\n",
    "find = re.findall(r'\\bal',s)\n",
    "print(find)"
   ]
  },
  {
   "cell_type": "markdown",
   "id": "3bcd51c4-bbf2-4caf-b49f-0aa19bf7f6e8",
   "metadata": {},
   "source": [
    "## CAPTURE GROUPS"
   ]
  },
  {
   "cell_type": "markdown",
   "id": "b9865727-1b41-4977-8348-e8ba68d73b23",
   "metadata": {},
   "source": [
    "* Capture groups are denoted by parentheses and are used to\n",
    "group the regex enclosed within them. They capture matches for\n",
    "the regex into numbered groups that can be extracted or used with a\n",
    "numbered back-reference.\n",
    "* The example below checks for the presence of an IP address and if\n",
    "found, extracts each part of the dotted quad."
   ]
  },
  {
   "cell_type": "code",
   "execution_count": 371,
   "id": "81b9c3bd-9c85-45de-bad2-35c53234770a",
   "metadata": {},
   "outputs": [
    {
     "name": "stdout",
     "output_type": "stream",
     "text": [
      "[('192', '168', '1', '1')]\n"
     ]
    }
   ],
   "source": [
    "import re\n",
    "ipregex = r'\\b([0-9]{1,3})\\.([0-9]{1,3})\\.([0-9]{1,3})\\.([0-9]{1,3})\\b'\n",
    "string = 'The IP address 192.168.1.1 is a class C address.'\n",
    "match = re.findall(ipregex,string)\n",
    "print(match)"
   ]
  },
  {
   "cell_type": "markdown",
   "id": "0d9acd5d-4cf9-4488-8d69-4e82ff5912be",
   "metadata": {},
   "source": [
    "## REGULAR EXPRESSION FLAGS"
   ]
  },
  {
   "cell_type": "markdown",
   "id": "0e7dbc89-5fa5-431a-bf81-d0c05a964baf",
   "metadata": {},
   "source": [
    "* Most regular expression functions in the re module can take an\n",
    "optional flags argument. Flags allow us to change the way the parser interprets\n",
    "the regular expressions. There are numerous regular expression flags,\n",
    "including:\n",
    "* re.M or re.MULTILINE - The start and end of string anchors will also match\n",
    "newlines\n",
    "* re.S or re.DOTALL - The dot metacharacter will also match a newline.\n",
    "* re.I or re.IGNORECASE - Matches on alphabetic characters will be case-\n",
    "insensitive."
   ]
  },
  {
   "cell_type": "code",
   "execution_count": 375,
   "id": "23086767-5729-43d3-a8a6-59a272c1ee98",
   "metadata": {},
   "outputs": [
    {
     "name": "stdout",
     "output_type": "stream",
     "text": [
      "['the']\n"
     ]
    }
   ],
   "source": [
    "import re\n",
    "s = 'The quick brown fox jumped over the lazy dog'\n",
    "find = re.findall('the', s)\n",
    "print(find)"
   ]
  },
  {
   "cell_type": "code",
   "execution_count": 377,
   "id": "adcf7843-2d69-456f-9ab2-74d70a9e0359",
   "metadata": {},
   "outputs": [
    {
     "name": "stdout",
     "output_type": "stream",
     "text": [
      "['The', 'the']\n"
     ]
    }
   ],
   "source": [
    "find = re.findall('the', s, re.IGNORECASE)\n",
    "print(find)"
   ]
  },
  {
   "cell_type": "markdown",
   "id": "c1d281ca-aa95-49df-9480-1365a742cc37",
   "metadata": {},
   "source": [
    "# NATURAL LANGUAGE PROCESSING"
   ]
  },
  {
   "cell_type": "markdown",
   "id": "ee3baee1-ec6e-4946-b653-441aa53ce182",
   "metadata": {},
   "source": [
    "The Natural Language Toolkit (NLTK) is a powerful Python library for natural\n",
    "language processing. It offers an extensive set of functions for processing natural\n",
    "language content, such as:\n",
    "* Word / Sentence Tokenisation;\n",
    "* Synonyms, antonyms and homonyms;\n",
    "* Stemming and lemmatisation;\n",
    "* Stop-word removal;\n",
    "* Part of speech tagging;\n",
    "* Named Entity Recognition;\n",
    "* Anaphora and cataphora resolution; and\n",
    "* Word-sense disambiguation."
   ]
  },
  {
   "cell_type": "markdown",
   "id": "33f92df8-befe-428d-9692-b219edc3b889",
   "metadata": {},
   "source": [
    "## INSTALLING NLTK"
   ]
  },
  {
   "cell_type": "code",
   "execution_count": null,
   "id": "58cc338d-29d8-4923-87f8-22b37ceff8a3",
   "metadata": {},
   "outputs": [],
   "source": [
    "# %conda install nltk\n",
    "# import nltk\n",
    "# nltk.download()"
   ]
  },
  {
   "cell_type": "markdown",
   "id": "bf64f9a8-69c5-46bd-aaaf-72f8d4c1e170",
   "metadata": {},
   "source": [
    "## NLTK EXAMPLES - TOKENISATION"
   ]
  },
  {
   "cell_type": "code",
   "execution_count": 385,
   "id": "1ec0a563-3d75-463a-854a-f14cd732414f",
   "metadata": {
    "scrolled": true
   },
   "outputs": [],
   "source": [
    "# from nltk.tokenize import word_tokenize\n",
    "# sentence = 'We are studying Natural Language Processing'\n",
    "# print(word_tokenize(sentence))"
   ]
  },
  {
   "cell_type": "code",
   "execution_count": null,
   "id": "e18274c8-aaf6-411d-bb51-6900bce19b72",
   "metadata": {},
   "outputs": [],
   "source": [
    "# from nltk import ngrams\n",
    "# trigrams = ngrams(sentence.split(), 3)\n",
    "# for grams in trigrams :\n",
    "#     print(grams)"
   ]
  },
  {
   "cell_type": "markdown",
   "id": "472ef8c6-d38e-46e6-b74c-fadcadf10076",
   "metadata": {},
   "source": [
    "## NLTK EXAMPLES - POS TAGGING"
   ]
  },
  {
   "cell_type": "code",
   "execution_count": null,
   "id": "5335969e-0c48-44d5-a745-d14956c8b0d0",
   "metadata": {},
   "outputs": [],
   "source": [
    "# from nltk import pos_tag, word_tokenize\n",
    "# sentence = 'They agreed the subjects they studied were difficult'\n",
    "# pos_tagged = pos_tag(word_tokenize(sentence))\n",
    "# for tag in pos_tagged:\n",
    "#     print(tag)"
   ]
  },
  {
   "cell_type": "markdown",
   "id": "11b76ced-1c6d-433c-b005-5ce0180b2d20",
   "metadata": {},
   "source": [
    "## NLTK EXAMPLES - STEMMING"
   ]
  },
  {
   "cell_type": "code",
   "execution_count": null,
   "id": "4a28a600-6fbf-40b5-b8d8-6ea8b1247b81",
   "metadata": {},
   "outputs": [],
   "source": [
    "# from nltk.tokenize import word_tokenize\n",
    "# from nltk.stem import PorterStemmer\n",
    "# sentence = 'They agreed the subjects they studied were difficult'\n",
    "# stemmer = PorterStemmer()\n",
    "# for word in word_tokenize(sentence) :\n",
    "#     print(stemmer.stem(word))"
   ]
  },
  {
   "cell_type": "markdown",
   "id": "6c5e8508-3971-426a-bc8f-22d42615efc0",
   "metadata": {},
   "source": [
    "## NLTK EXAMPLES - LEMMATISATION"
   ]
  },
  {
   "cell_type": "code",
   "execution_count": null,
   "id": "c80b43de-8b2e-4a6b-ac20-7b6a5493dc34",
   "metadata": {},
   "outputs": [],
   "source": [
    "# from nltk import word_tokenize, pos_tag\n",
    "# from nltk.stem import WordNetLemmatizer\n",
    "# sentence = 'They agreed the subjects they studied were difficult'\n",
    "# lemmatiser = WordNetLemmatizer()\n",
    "# for word, tag in pos_tag(word_tokenize(sentence)):\n",
    "#     tag = tag.lower()[0] if tag.lower()[0] in ['a','r','v','n'] else None\n",
    "#     print(lemmatiser.lemmatize(word,tag) if tag else word)))"
   ]
  },
  {
   "cell_type": "markdown",
   "id": "e81ed362-7b3c-4a88-a6a9-abcda826560f",
   "metadata": {},
   "source": [
    "## NLTK EXAMPLES - WORD SENSE"
   ]
  },
  {
   "cell_type": "code",
   "execution_count": null,
   "id": "74e8ca1c-60bc-41e0-aeb9-ec39e74b077a",
   "metadata": {},
   "outputs": [],
   "source": [
    "# from nltk import word_tokenize\n",
    "# from nltk.wsd import lesk\n",
    "# sentence = 'She went to the bank to deposit some money'\n",
    "# print(lesk(word_tokenize(sentence), 'bank', 'n'))"
   ]
  },
  {
   "cell_type": "code",
   "execution_count": null,
   "id": "d606bc93-cec2-4e2f-a665-e08fb6efba57",
   "metadata": {},
   "outputs": [],
   "source": [
    "# from nltk.corpus import wordnet as wn\n",
    "# for synset in wn.synsets('bank') :\n",
    "#     print(synset,synset.definition())"
   ]
  },
  {
   "cell_type": "markdown",
   "id": "e5f3ce1d-a7e5-40b5-aa46-44810b618440",
   "metadata": {},
   "source": [
    "# NumPy"
   ]
  },
  {
   "cell_type": "markdown",
   "id": "a35b50ff-6d2d-467c-9127-d6101c9a37ec",
   "metadata": {},
   "source": [
    "## Create numpy array"
   ]
  },
  {
   "cell_type": "code",
   "execution_count": 7,
   "id": "bc29cc2f-87f2-45f2-8f2e-00f76c7806dc",
   "metadata": {},
   "outputs": [],
   "source": [
    "import numpy as np"
   ]
  },
  {
   "cell_type": "code",
   "execution_count": 6,
   "id": "9a6ef263-8a1b-4e4e-b900-a89f528b723f",
   "metadata": {},
   "outputs": [],
   "source": [
    "myArray = np.array([1,2,3,4,5,6,7,8,9,10])"
   ]
  },
  {
   "cell_type": "code",
   "execution_count": 14,
   "id": "4e36d733-a849-42bb-a292-67f2cbc4c32a",
   "metadata": {},
   "outputs": [
    {
     "name": "stdout",
     "output_type": "stream",
     "text": [
      "[ 1  2  3  4  5  6  7  8  9 10]\n",
      "The Length: 10\n",
      "Array Type: <class 'numpy.ndarray'>\n"
     ]
    }
   ],
   "source": [
    "print(myArray)\n",
    "print(f'The Length: {len(myArray)}')\n",
    "print(f'Array Type: {type(myArray)}')"
   ]
  },
  {
   "cell_type": "markdown",
   "id": "4ad453f1-558c-4edc-9748-69145d0c13cb",
   "metadata": {},
   "source": [
    "## Create an ndarray"
   ]
  },
  {
   "cell_type": "code",
   "execution_count": 17,
   "id": "9ee10c84-84b1-4290-a394-df0eec4a15eb",
   "metadata": {},
   "outputs": [
    {
     "name": "stdout",
     "output_type": "stream",
     "text": [
      "42\n"
     ]
    }
   ],
   "source": [
    "arr0d = np.array(42)\n",
    "print(arr0d)"
   ]
  },
  {
   "cell_type": "code",
   "execution_count": 19,
   "id": "d422ec7e-dfd3-4957-9d88-e7ef24602e39",
   "metadata": {},
   "outputs": [
    {
     "name": "stdout",
     "output_type": "stream",
     "text": [
      "[3 4 5]\n"
     ]
    }
   ],
   "source": [
    "arr1d = np.array([3,4,5])\n",
    "print(arr1d)"
   ]
  },
  {
   "cell_type": "code",
   "execution_count": 23,
   "id": "2ecb7ab2-8f08-4457-b098-e2ee1c3dad20",
   "metadata": {},
   "outputs": [
    {
     "name": "stdout",
     "output_type": "stream",
     "text": [
      "[[3 4 5]\n",
      " [6 7 8]]\n"
     ]
    }
   ],
   "source": [
    "arr2d = np.array([[3,4,5], [6,7,8]])\n",
    "print(arr2d)"
   ]
  },
  {
   "cell_type": "code",
   "execution_count": 25,
   "id": "5214930c-2f2f-4927-b09f-3686a170999e",
   "metadata": {},
   "outputs": [
    {
     "name": "stdout",
     "output_type": "stream",
     "text": [
      "[[[ 1  2  3]\n",
      "  [ 4  5  6]]\n",
      "\n",
      " [[ 7  8  9]\n",
      "  [10 11 12]]]\n"
     ]
    }
   ],
   "source": [
    "arr3d = np.array([[[1,2,3], [4,5,6]], [[7,8,9], [10,11,12]]])\n",
    "print(arr3d)"
   ]
  },
  {
   "cell_type": "code",
   "execution_count": 27,
   "id": "212ccc75-3292-4e87-a54e-8efedcce6727",
   "metadata": {},
   "outputs": [
    {
     "name": "stdout",
     "output_type": "stream",
     "text": [
      "[[[[[ 1  2  3]\n",
      "    [ 4  5  6]]\n",
      "\n",
      "   [[ 7  8  9]\n",
      "    [10 11 12]]]]]\n"
     ]
    }
   ],
   "source": [
    "arr5d = np.array([[[1,2,3], [4,5,6]], [[7,8,9], [10,11,12]]], ndmin=5)\n",
    "print(arr5d)"
   ]
  },
  {
   "cell_type": "markdown",
   "id": "97d2b5e3-fb06-490d-9c19-e97d7388a414",
   "metadata": {},
   "source": [
    "## Numpy datatypes"
   ]
  },
  {
   "cell_type": "code",
   "execution_count": 30,
   "id": "5a4d86e7-6b30-4f00-a093-5680554395f0",
   "metadata": {},
   "outputs": [
    {
     "name": "stdout",
     "output_type": "stream",
     "text": [
      "[[3. 4. 5.]\n",
      " [6. 7. 8.]]\n"
     ]
    }
   ],
   "source": [
    "arr2d = np.array([[3,4,5],[6,7,8]], dtype='f')\n",
    "print(arr2d)"
   ]
  },
  {
   "cell_type": "code",
   "execution_count": 32,
   "id": "5270eb21-7718-4763-bf7e-b26eb6e60f41",
   "metadata": {},
   "outputs": [
    {
     "name": "stdout",
     "output_type": "stream",
     "text": [
      "float32\n"
     ]
    }
   ],
   "source": [
    "print(arr2d.dtype)"
   ]
  },
  {
   "cell_type": "code",
   "execution_count": 34,
   "id": "6a14d7be-f87a-4409-9503-827334b198d4",
   "metadata": {},
   "outputs": [
    {
     "name": "stdout",
     "output_type": "stream",
     "text": [
      "4\n"
     ]
    }
   ],
   "source": [
    "print(arr2d.dtype.itemsize)"
   ]
  },
  {
   "cell_type": "markdown",
   "id": "1ef3cdce-f17a-4217-807c-c5a94c2482e3",
   "metadata": {},
   "source": [
    "Numpy is not limited to the built-in datatypes. We can define out own vompound types using the built-in types."
   ]
  },
  {
   "cell_type": "code",
   "execution_count": 7,
   "id": "dd7ac137-5d1d-4304-bc68-f7e7d1b25af2",
   "metadata": {},
   "outputs": [],
   "source": [
    "salesTransactionType = np.dtype([\n",
    "    ('itemName', np.str_, 40),\n",
    "    ('quantity', np.int32),\n",
    "    ('price', np.float32)\n",
    "])"
   ]
  },
  {
   "cell_type": "code",
   "execution_count": 9,
   "id": "eb58874f-f8ec-4504-bfc1-d68fee64cca5",
   "metadata": {},
   "outputs": [
    {
     "name": "stdout",
     "output_type": "stream",
     "text": [
      "[('itemName', '<U40'), ('quantity', '<i4'), ('price', '<f4')]\n"
     ]
    }
   ],
   "source": [
    "print(salesTransactionType)"
   ]
  },
  {
   "cell_type": "code",
   "execution_count": 24,
   "id": "9a5912e0-406a-4af7-b84c-4befce264d0a",
   "metadata": {},
   "outputs": [],
   "source": [
    "salesitems = np.array([\n",
    "    ('Apples', 10, 1.20),\n",
    "    ('Pears', 5, 1.40),\n",
    "    ('Oranges', 2, 1.30),\n",
    "], dtype = salesTransactionType)"
   ]
  },
  {
   "cell_type": "code",
   "execution_count": 26,
   "id": "5b777fc6-86be-45f1-a183-d430c261979e",
   "metadata": {},
   "outputs": [
    {
     "name": "stdout",
     "output_type": "stream",
     "text": [
      "[('Apples', 10, 1.2) ('Pears',  5, 1.4) ('Oranges',  2, 1.3)]\n"
     ]
    }
   ],
   "source": [
    "print(salesitems)"
   ]
  },
  {
   "cell_type": "markdown",
   "id": "c0618e11-ab0d-45aa-ad4d-02634ff58f95",
   "metadata": {},
   "source": [
    "# NumPy Methods"
   ]
  },
  {
   "cell_type": "markdown",
   "id": "ee600e36-bd09-418b-9e7b-c04a037e9fb4",
   "metadata": {},
   "source": [
    "* Slicing\n",
    "* Stacking\n",
    "* Reshaping\n",
    "* Splitting\n",
    "* Conversion to other datatypes"
   ]
  },
  {
   "cell_type": "markdown",
   "id": "e51dd1c4-ac9e-4666-ac49-4bc89aa8b634",
   "metadata": {},
   "source": [
    "## Slicing"
   ]
  },
  {
   "cell_type": "markdown",
   "id": "5855131d-5e61-4c9e-95c4-9c838cee9898",
   "metadata": {},
   "source": [
    "Slicing in two dimentions <i>i</i> (rows) and <i>j</i> (columns) takes from:\n",
    "<b>arrayName[ i , j ]</b>"
   ]
  },
  {
   "cell_type": "code",
   "execution_count": 36,
   "id": "62d20451-7857-4455-be58-6649075b6665",
   "metadata": {},
   "outputs": [],
   "source": [
    "arr2d = np.array([[3,4,5],[6,7,8],[9,10,11]])"
   ]
  },
  {
   "cell_type": "code",
   "execution_count": 38,
   "id": "6b3a1366-7ff0-41c9-b563-d75a70deac98",
   "metadata": {},
   "outputs": [
    {
     "name": "stdout",
     "output_type": "stream",
     "text": [
      "[ 8 11]\n"
     ]
    }
   ],
   "source": [
    "print(arr2d[1:3,2])"
   ]
  },
  {
   "cell_type": "code",
   "execution_count": 57,
   "id": "abc20789-f116-476c-a9a6-aa16b763534e",
   "metadata": {},
   "outputs": [],
   "source": [
    "arr3d = np.array([\n",
    "    [\n",
    "        [1,2,3],\n",
    "        [4,5,6]\n",
    "    ],\n",
    "    [\n",
    "        [7,8,9], \n",
    "        [10,11,12]\n",
    "    ]\n",
    "])"
   ]
  },
  {
   "cell_type": "code",
   "execution_count": 59,
   "id": "6501c24c-069b-4c28-8bff-192e266ffd96",
   "metadata": {},
   "outputs": [
    {
     "name": "stdout",
     "output_type": "stream",
     "text": [
      "[8 9]\n"
     ]
    }
   ],
   "source": [
    "'''\n",
    "Second matrix, first row, 2nd and 3rd values\n",
    "'''\n",
    "print(arr3d[1,0,1:3])"
   ]
  },
  {
   "cell_type": "code",
   "execution_count": 63,
   "id": "4ec45d11-023e-4b45-b075-6066d0a8164b",
   "metadata": {},
   "outputs": [
    {
     "name": "stdout",
     "output_type": "stream",
     "text": [
      "[[2 3]\n",
      " [8 9]]\n"
     ]
    }
   ],
   "source": [
    "'''\n",
    "Full Slice\n",
    "'''\n",
    "print(arr3d[:,0,1:3])"
   ]
  },
  {
   "cell_type": "markdown",
   "id": "1178e62b-b5d3-42e1-8e63-6ed5e9fa56ba",
   "metadata": {},
   "source": [
    "## Stacking"
   ]
  },
  {
   "cell_type": "code",
   "execution_count": 66,
   "id": "ccbe1f19-0764-4ce0-b91c-4680e5e911bf",
   "metadata": {},
   "outputs": [],
   "source": [
    "a1 = np.array([1,2,3])\n",
    "a2 = np.array([4,5,6])"
   ]
  },
  {
   "cell_type": "code",
   "execution_count": 68,
   "id": "3dae08e2-0974-470f-a8e3-46f391f665f0",
   "metadata": {},
   "outputs": [
    {
     "name": "stdout",
     "output_type": "stream",
     "text": [
      "[[1 2 3]\n",
      " [4 5 6]]\n"
     ]
    }
   ],
   "source": [
    "print(np.stack((a1, a2), axis=0))"
   ]
  },
  {
   "cell_type": "code",
   "execution_count": 70,
   "id": "90882aae-01f8-4776-8840-00c364c74095",
   "metadata": {},
   "outputs": [
    {
     "name": "stdout",
     "output_type": "stream",
     "text": [
      "[[1 4]\n",
      " [2 5]\n",
      " [3 6]]\n"
     ]
    }
   ],
   "source": [
    "print(np.stack((a1, a2), axis=1))"
   ]
  },
  {
   "cell_type": "markdown",
   "id": "c0b9c0c5-3da3-4457-adc1-1ba874f1b221",
   "metadata": {},
   "source": [
    "## Splitting"
   ]
  },
  {
   "cell_type": "markdown",
   "id": "ea7ce53b-d8f8-4f3d-a61b-02214264244b",
   "metadata": {},
   "source": [
    "Splitting an ndarray breaks it up in to multiple sub-arrays.\n",
    "NumPy's <i>split()</i> function splits an array into <i>n</i> equally-sized sub-arrays, with <i>n</i> being specified as second argument to the function. Note that the number of elements in original array must be evenly divisible by <i>n</i>.<i></i>"
   ]
  },
  {
   "cell_type": "code",
   "execution_count": 9,
   "id": "0bcf214b-27b0-42b7-bf39-1ce8a4aa137b",
   "metadata": {},
   "outputs": [
    {
     "name": "stdout",
     "output_type": "stream",
     "text": [
      "[ 0  1  2  3  4  5  6  7  8  9 10 11]\n"
     ]
    }
   ],
   "source": [
    "# Must use try-except here\n",
    "\n",
    "arr1d =  np.arange(12)\n",
    "print(arr1d)"
   ]
  },
  {
   "cell_type": "code",
   "execution_count": 13,
   "id": "81757255-ebce-40cb-b215-f04e2ea8e535",
   "metadata": {},
   "outputs": [
    {
     "data": {
      "text/plain": [
       "[array([0, 1, 2]), array([3, 4, 5]), array([6, 7, 8]), array([ 9, 10, 11])]"
      ]
     },
     "execution_count": 13,
     "metadata": {},
     "output_type": "execute_result"
    }
   ],
   "source": [
    "# Split arr1d which is 12 digits long into 4 parts\n",
    "\n",
    "np.split(arr1d, 4)"
   ]
  },
  {
   "cell_type": "code",
   "execution_count": 15,
   "id": "7b7b458d-7f46-432f-a50f-a6efb02e5878",
   "metadata": {},
   "outputs": [
    {
     "name": "stdout",
     "output_type": "stream",
     "text": [
      "[ 0  1  2  3  4  5  6  7  8  9 10 11 12 13]\n"
     ]
    }
   ],
   "source": [
    "#  No need for try-except\n",
    "\n",
    "arr1d = np.arange(14)\n",
    "print(arr1d)"
   ]
  },
  {
   "cell_type": "code",
   "execution_count": 17,
   "id": "48c97273-3fdd-4d62-af1c-7f8134843488",
   "metadata": {},
   "outputs": [
    {
     "data": {
      "text/plain": [
       "[array([0, 1, 2, 3]),\n",
       " array([4, 5, 6, 7]),\n",
       " array([ 8,  9, 10]),\n",
       " array([11, 12, 13])]"
      ]
     },
     "execution_count": 17,
     "metadata": {},
     "output_type": "execute_result"
    }
   ],
   "source": [
    "# Split arr1d into 4 parts, but this array contains only 14\n",
    "\n",
    "np.array_split(arr1d,4)"
   ]
  },
  {
   "cell_type": "markdown",
   "id": "f84e45ec-d21c-45e0-a250-284e0cce2383",
   "metadata": {},
   "source": [
    "NumPy's array <i>hsplit()</i> function sllits an array into multiple sub-arrays in a column-wise manner (horizontally)."
   ]
  },
  {
   "cell_type": "code",
   "execution_count": 20,
   "id": "33b3bc63-470c-4731-a795-1b02b25d5c00",
   "metadata": {},
   "outputs": [
    {
     "data": {
      "text/plain": [
       "[array([[1],\n",
       "        [3],\n",
       "        [5],\n",
       "        [7]]),\n",
       " array([[2],\n",
       "        [4],\n",
       "        [6],\n",
       "        [8]])]"
      ]
     },
     "execution_count": 20,
     "metadata": {},
     "output_type": "execute_result"
    }
   ],
   "source": [
    "arr2d = np.array([[1,2], [3,4], [5,6], [7,8]])\n",
    "np.hsplit(arr2d, 2)"
   ]
  },
  {
   "cell_type": "markdown",
   "id": "4e802d8f-c990-47eb-b47e-1c5a187a994e",
   "metadata": {},
   "source": [
    "# Dealing with *NA* Values"
   ]
  },
  {
   "cell_type": "markdown",
   "id": "a2e49577-2abf-45a0-9d45-64461f3db60a",
   "metadata": {},
   "source": [
    "Missing data is defined as the values or data that is not stored (or not present) for some variables in the given dataset."
   ]
  },
  {
   "cell_type": "markdown",
   "id": "d592bad6-bce8-4f8b-b61a-f531c9c56e40",
   "metadata": {},
   "source": [
    "## 3 Primary types:"
   ]
  },
  {
   "cell_type": "markdown",
   "id": "6fc55132-331c-4c6c-8f97-b4b11a7414d7",
   "metadata": {},
   "source": [
    "+ Category\n",
    "1. Missing completely at Random (MCAR) - you don't know and cannot guess\n",
    "2. Missing at Random (MAR) - you can guess this value based on values around it\n",
    "3. Missing Not at Random (MNAR) - you clearly see what value is missing"
   ]
  },
  {
   "cell_type": "markdown",
   "id": "0f15c7f8-d7ab-4c98-beb4-a21e7550f027",
   "metadata": {},
   "source": [
    "* Treatment\n",
    "\n",
    "1. Deleting [ Rows or Columns ]\n",
    "2. Imputation [ Single or Multiple ]\n",
    "3. Improve or Sensitize [ Find Data or Best/Worst Case ]"
   ]
  },
  {
   "cell_type": "markdown",
   "id": "af540bee-fb86-47e0-a4cc-9ba60d00885c",
   "metadata": {},
   "source": [
    "### 1. Deleting"
   ]
  },
  {
   "cell_type": "markdown",
   "id": "a21162ba-3744-417d-95d6-91176357c78a",
   "metadata": {},
   "source": [
    "One way to handle missing data is to simply remove rows or columns with mossing values."
   ]
  },
  {
   "cell_type": "code",
   "execution_count": 41,
   "id": "c6c06a16-f397-41d9-879c-86764a5c7b87",
   "metadata": {},
   "outputs": [
    {
     "data": {
      "text/html": [
       "<div>\n",
       "<style scoped>\n",
       "    .dataframe tbody tr th:only-of-type {\n",
       "        vertical-align: middle;\n",
       "    }\n",
       "\n",
       "    .dataframe tbody tr th {\n",
       "        vertical-align: top;\n",
       "    }\n",
       "\n",
       "    .dataframe thead th {\n",
       "        text-align: right;\n",
       "    }\n",
       "</style>\n",
       "<table border=\"1\" class=\"dataframe\">\n",
       "  <thead>\n",
       "    <tr style=\"text-align: right;\">\n",
       "      <th></th>\n",
       "      <th>Name</th>\n",
       "      <th>Age</th>\n",
       "      <th>Gender</th>\n",
       "      <th>Salary</th>\n",
       "    </tr>\n",
       "  </thead>\n",
       "  <tbody>\n",
       "    <tr>\n",
       "      <th>0</th>\n",
       "      <td>Alice</td>\n",
       "      <td>25.0</td>\n",
       "      <td>F</td>\n",
       "      <td>50000.0</td>\n",
       "    </tr>\n",
       "    <tr>\n",
       "      <th>1</th>\n",
       "      <td>Bob</td>\n",
       "      <td>30.0</td>\n",
       "      <td>M</td>\n",
       "      <td>60000.0</td>\n",
       "    </tr>\n",
       "    <tr>\n",
       "      <th>2</th>\n",
       "      <td>Charlie</td>\n",
       "      <td>NaN</td>\n",
       "      <td>M</td>\n",
       "      <td>55000.0</td>\n",
       "    </tr>\n",
       "    <tr>\n",
       "      <th>3</th>\n",
       "      <td>David</td>\n",
       "      <td>22.0</td>\n",
       "      <td>M</td>\n",
       "      <td>NaN</td>\n",
       "    </tr>\n",
       "    <tr>\n",
       "      <th>4</th>\n",
       "      <td>Eva</td>\n",
       "      <td>29.0</td>\n",
       "      <td>NaN</td>\n",
       "      <td>52000.0</td>\n",
       "    </tr>\n",
       "  </tbody>\n",
       "</table>\n",
       "</div>"
      ],
      "text/plain": [
       "      Name   Age Gender   Salary\n",
       "0    Alice  25.0      F  50000.0\n",
       "1      Bob  30.0      M  60000.0\n",
       "2  Charlie   NaN      M  55000.0\n",
       "3    David  22.0      M      NaN\n",
       "4      Eva  29.0    NaN  52000.0"
      ]
     },
     "execution_count": 41,
     "metadata": {},
     "output_type": "execute_result"
    }
   ],
   "source": [
    "import pandas as pd\n",
    "import numpy as np\n",
    "\n",
    "# Create a small dataset with missing values\n",
    "data = {\n",
    "    'Name': ['Alice', 'Bob', 'Charlie', 'David', 'Eva'],\n",
    "    'Age': [25, 30, np.nan, 22, 29],\n",
    "    'Gender': ['F', 'M', 'M', 'M', np.nan],\n",
    "    'Salary': [50000, 60000, 55000, np.nan, 52000]\n",
    "}\n",
    "\n",
    "# Create a DataFrame\n",
    "dataset_Test = pd.DataFrame(data)\n",
    "\n",
    "# Display the dataset\n",
    "dataset_Test"
   ]
  },
  {
   "cell_type": "code",
   "execution_count": 43,
   "id": "135373b0-b663-4aa1-837c-c8be4c556c02",
   "metadata": {},
   "outputs": [
    {
     "name": "stdout",
     "output_type": "stream",
     "text": [
      "Test - Deletion of Missing Data:\n"
     ]
    },
    {
     "data": {
      "text/html": [
       "<div>\n",
       "<style scoped>\n",
       "    .dataframe tbody tr th:only-of-type {\n",
       "        vertical-align: middle;\n",
       "    }\n",
       "\n",
       "    .dataframe tbody tr th {\n",
       "        vertical-align: top;\n",
       "    }\n",
       "\n",
       "    .dataframe thead th {\n",
       "        text-align: right;\n",
       "    }\n",
       "</style>\n",
       "<table border=\"1\" class=\"dataframe\">\n",
       "  <thead>\n",
       "    <tr style=\"text-align: right;\">\n",
       "      <th></th>\n",
       "      <th>Name</th>\n",
       "      <th>Age</th>\n",
       "      <th>Gender</th>\n",
       "      <th>Salary</th>\n",
       "    </tr>\n",
       "  </thead>\n",
       "  <tbody>\n",
       "    <tr>\n",
       "      <th>0</th>\n",
       "      <td>Alice</td>\n",
       "      <td>25.0</td>\n",
       "      <td>F</td>\n",
       "      <td>50000.0</td>\n",
       "    </tr>\n",
       "    <tr>\n",
       "      <th>1</th>\n",
       "      <td>Bob</td>\n",
       "      <td>30.0</td>\n",
       "      <td>M</td>\n",
       "      <td>60000.0</td>\n",
       "    </tr>\n",
       "  </tbody>\n",
       "</table>\n",
       "</div>"
      ],
      "text/plain": [
       "    Name   Age Gender   Salary\n",
       "0  Alice  25.0      F  50000.0\n",
       "1    Bob  30.0      M  60000.0"
      ]
     },
     "execution_count": 43,
     "metadata": {},
     "output_type": "execute_result"
    }
   ],
   "source": [
    "# This will remove all rows where one or more missing data\n",
    "\n",
    "working_data_after_del = dataset_Test.dropna()\n",
    "print(\"Test - Deletion of Missing Data:\")\n",
    "working_data_after_del"
   ]
  },
  {
   "cell_type": "markdown",
   "id": "fc16b64b-76b1-49ed-a2a3-4423967e43c3",
   "metadata": {},
   "source": [
    "### 2. Imputation"
   ]
  },
  {
   "cell_type": "markdown",
   "id": "fc4b07ec-035f-4f86-bf5e-aadc2338d978",
   "metadata": {},
   "source": [
    "#### Using Mean/Median ============================"
   ]
  },
  {
   "cell_type": "markdown",
   "id": "271c7957-726e-4bcc-8e22-53173c031189",
   "metadata": {},
   "source": [
    "* Replace missing values with central tendency\n",
    "\n",
    "Replace missing values with the mean (for normally distributed data) or median (for skewed data) of the non-missing values in the same column."
   ]
  },
  {
   "cell_type": "markdown",
   "id": "a53c00c0-051e-48b5-b738-9d5f16990005",
   "metadata": {},
   "source": [
    "* dataframe.fillna(Train.mean())"
   ]
  },
  {
   "cell_type": "code",
   "execution_count": 56,
   "id": "d7cc0fdc-2869-4ee6-90c8-38071bab0e16",
   "metadata": {},
   "outputs": [
    {
     "name": "stdout",
     "output_type": "stream",
     "text": [
      "Train Dataset:\n",
      "   Feature1  Feature2  Feature3\n",
      "0      10.0       7.5     100.0\n",
      "1      20.0       NaN     200.0\n",
      "2       NaN      15.0     300.0\n",
      "3      40.0       NaN     400.0\n",
      "4      50.0      12.0       NaN\n",
      "\n",
      "Dataset after mean imputation:\n",
      "   Feature1  Feature2  Feature3\n",
      "0      10.0       7.5     100.0\n",
      "1      20.0      11.5     200.0\n",
      "2      30.0      15.0     300.0\n",
      "3      40.0      11.5     400.0\n",
      "4      50.0      12.0     250.0\n"
     ]
    }
   ],
   "source": [
    "import pandas as pd\n",
    "import numpy as np\n",
    "\n",
    "# Create a small dataset with missing values\n",
    "data = {\n",
    "    'Feature1': [10, 20, np.nan, 40, 50],\n",
    "    'Feature2': [7.5, np.nan, 15.0, np.nan, 12.0],\n",
    "    'Feature3': [100, 200, 300, 400, np.nan]\n",
    "}\n",
    "\n",
    "# Create the DataFrame named Train\n",
    "Train = pd.DataFrame(data)\n",
    "\n",
    "# Display the dataset\n",
    "print(\"Train Dataset:\")\n",
    "print(Train)\n",
    "\n",
    "# Now, use mean imputation on the missing values\n",
    "df_mean_impute = Train.fillna(Train.mean())\n",
    "\n",
    "# Display the imputed dataset\n",
    "print(\"\\nDataset after mean imputation:\")\n",
    "print(df_mean_impute)\n"
   ]
  },
  {
   "cell_type": "markdown",
   "id": "4272f8c1-d832-4fbb-8689-666b1c71a63c",
   "metadata": {},
   "source": [
    "#### Using Mode ============================"
   ]
  },
  {
   "cell_type": "markdown",
   "id": "a23adb0c-4ebb-4573-ac25-37bd4c6d0a39",
   "metadata": {},
   "source": [
    "* For categorical data, replace missing values with the mode  (the most frequent category) in the same column.\n",
    "\n",
    "> For example:\n",
    "In a survey dataset, if a question about favorite colors has missing values, replace them with the most common color choice."
   ]
  },
  {
   "cell_type": "markdown",
   "id": "82ca4f21-4ac7-42e0-b96f-0288f505978b",
   "metadata": {},
   "source": [
    "* dataframe.fillna(df.mode().iloc[0])"
   ]
  },
  {
   "cell_type": "code",
   "execution_count": 65,
   "id": "e8aa6a37-bfbe-4124-8e31-a5fd5ae973cc",
   "metadata": {},
   "outputs": [
    {
     "name": "stdout",
     "output_type": "stream",
     "text": [
      "Original Dataset:\n",
      "      Name Favorite Color\n",
      "0    Alice           Blue\n",
      "1      Bob          Green\n",
      "2  Charlie            NaN\n",
      "3    David           Blue\n",
      "4      Eva            NaN\n",
      "\n",
      "Method 3 - Mode Imputation:\n",
      "      Name Favorite Color\n",
      "0    Alice           Blue\n",
      "1      Bob          Green\n",
      "2  Charlie           Blue\n",
      "3    David           Blue\n",
      "4      Eva           Blue\n"
     ]
    }
   ],
   "source": [
    "import pandas as pd\n",
    "import numpy as np\n",
    "\n",
    "# Create a small dataset with missing values in the 'Favorite Color' column\n",
    "data = {\n",
    "    'Name': ['Alice', 'Bob', 'Charlie', 'David', 'Eva'],\n",
    "    'Favorite Color': ['Blue', 'Green', np.nan, 'Blue', np.nan]\n",
    "}\n",
    "\n",
    "# Create the DataFrame\n",
    "df = pd.DataFrame(data)\n",
    "\n",
    "# Display the dataset\n",
    "print(\"Original Dataset:\")\n",
    "print(df)\n",
    "\n",
    "# Use mode imputation to fill missing values with the most common color\n",
    "df_mode_impute = df.fillna(df.mode().iloc[0])\n",
    "\n",
    "# Display the dataset after mode imputation\n",
    "print(\"\\nMethod 3 - Mode Imputation:\")\n",
    "print(df_mode_impute)\n"
   ]
  },
  {
   "cell_type": "markdown",
   "id": "8c4da261-e17f-422f-a729-070248638fa9",
   "metadata": {},
   "source": [
    "#### Using Regression ============================"
   ]
  },
  {
   "cell_type": "markdown",
   "id": "9dd29885-18c6-4480-8222-97c11b4d93ea",
   "metadata": {},
   "source": [
    "* Use regression models to predict missing values based on the relationships with other variables in the dataset.\n",
    "  > Example:\n",
    "  In a dataset of housing prices, you can use regression to predict the missing price of a house based on factors like square foorage and location."
   ]
  },
  {
   "cell_type": "markdown",
   "id": "1e1b3145-ff06-4099-bb7f-6179d877146f",
   "metadata": {},
   "source": [
    "imputer = KNNimputer(n_neighbors=5) # use K-nearest neighbors for imputation\n",
    "imputed_data = imputer.fit_transform(data)\n",
    "imputed_dataset.append(pd.DataFrame(imputed_data, columns=data.columns))"
   ]
  },
  {
   "cell_type": "code",
   "execution_count": 75,
   "id": "ec3d92fc-c885-4981-9630-fda9c394026e",
   "metadata": {},
   "outputs": [
    {
     "name": "stdout",
     "output_type": "stream",
     "text": [
      "Original Dataset with Missing Values:\n",
      "   SquareFootage  LocationScore     Price\n",
      "0         1500.0            8.0  300000.0\n",
      "1         2000.0            7.0  450000.0\n",
      "2         1700.0            9.0       NaN\n",
      "3            NaN            6.0  600000.0\n",
      "4         2500.0            NaN  500000.0\n",
      "\n",
      "Dataset after KNN Imputation:\n",
      "   SquareFootage  LocationScore     Price\n",
      "0         1500.0            8.0  300000.0\n",
      "1         2000.0            7.0  450000.0\n",
      "2         1700.0            9.0  462500.0\n",
      "3         1925.0            6.0  600000.0\n",
      "4         2500.0            7.5  500000.0\n"
     ]
    }
   ],
   "source": [
    "import pandas as pd\n",
    "import numpy as np\n",
    "from sklearn.impute import KNNImputer\n",
    "\n",
    "# Create a small dataset with some missing values\n",
    "data = {\n",
    "    'SquareFootage': [1500, 2000, 1700, np.nan, 2500],\n",
    "    'LocationScore': [8, 7, 9, 6, np.nan],  # Representing desirability of location\n",
    "    'Price': [300000, 450000, np.nan, 600000, 500000]\n",
    "}\n",
    "\n",
    "# Convert to DataFrame\n",
    "df = pd.DataFrame(data)\n",
    "\n",
    "# Display the dataset with missing values\n",
    "print(\"Original Dataset with Missing Values:\")\n",
    "print(df)\n",
    "\n",
    "# Initialize KNNImputer with 5 neighbors\n",
    "imputer = KNNImputer(n_neighbors=5)\n",
    "\n",
    "# Perform KNN imputation\n",
    "imputed_data = imputer.fit_transform(df)\n",
    "\n",
    "# Convert imputed data back into a DataFrame with original column names\n",
    "imputed_dataset = pd.DataFrame(imputed_data, columns=df.columns)\n",
    "\n",
    "# Display the dataset after imputation\n",
    "print(\"\\nDataset after KNN Imputation:\")\n",
    "print(imputed_dataset)\n"
   ]
  },
  {
   "cell_type": "markdown",
   "id": "f3546554-c4b2-46e3-9992-5d48fa375006",
   "metadata": {},
   "source": [
    "#### Use Domain Knowledge ============================"
   ]
  },
  {
   "cell_type": "markdown",
   "id": "b439a63b-ed8b-494b-9f47-de6bca740283",
   "metadata": {},
   "source": [
    "Utilixe domain knowledge or expert input to estimate missing values, especially when no statistical method is suitable.\n",
    "> Example:\n",
    "In an agricultural study, if sensor data is missing for a specific day, consult an agronomist to estimate the likely values based on weather conditions and crop growth."
   ]
  },
  {
   "cell_type": "code",
   "execution_count": 88,
   "id": "18d8ad9c-2748-4a86-befa-e6dd68a3c847",
   "metadata": {},
   "outputs": [
    {
     "name": "stdout",
     "output_type": "stream",
     "text": [
      "Original Dataset with Missing Values:\n",
      "     Day  Temperature  Rainfall  CropYield\n",
      "0  Day 1           30       5.0       1200\n",
      "1  Day 2           32       NaN       1150\n",
      "2  Day 3           29       7.0       1180\n",
      "3  Day 4           31       NaN       1175\n",
      "4  Day 5           33      10.0       1230\n",
      "\n",
      "Dataset after Expert Input Imputation:\n",
      "     Day  Temperature  Rainfall  CropYield\n",
      "0  Day 1           30       5.0       1200\n",
      "1  Day 2           32       4.0       1150\n",
      "2  Day 3           29       7.0       1180\n",
      "3  Day 4           31       8.0       1175\n",
      "4  Day 5           33      10.0       1230\n"
     ]
    }
   ],
   "source": [
    "import pandas as pd\n",
    "import numpy as np\n",
    "\n",
    "# Create a small dataset with missing Rainfall values\n",
    "data = {\n",
    "    'Day': ['Day 1', 'Day 2', 'Day 3', 'Day 4', 'Day 5'],\n",
    "    'Temperature': [30, 32, 29, 31, 33],  # Temperature in degrees Celsius\n",
    "    'Rainfall': [5, np.nan, 7, np.nan, 10],  # Rainfall in mm, with missing values\n",
    "    'CropYield': [1200, 1150, 1180, 1175, 1230]  # Crop yield in kg/hectare\n",
    "}\n",
    "\n",
    "# Convert to DataFrame\n",
    "df = pd.DataFrame(data)\n",
    "\n",
    "# Display the dataset with missing Rainfall values\n",
    "print(\"Original Dataset with Missing Values:\")\n",
    "print(df)\n",
    "\n",
    "# Expert Input (agronomist's estimate based on knowledge of weather and crops)\n",
    "# For example, the agronomist might say:\n",
    "# - On 'Day 2', it was overcast, so it's estimated that 4 mm of rain likely fell.\n",
    "# - On 'Day 4', conditions were dry but irrigation was applied, so it's estimated to be 8 mm.\n",
    "\n",
    "# Manually filling the missing values using expert input\n",
    "df.loc[df['Day'] == 'Day 2', 'Rainfall'] = 4  # Agronomist estimate for Day 2\n",
    "df.loc[df['Day'] == 'Day 4', 'Rainfall'] = 8  # Agronomist estimate for Day 4\n",
    "\n",
    "# Display the dataset after expert-based imputation\n",
    "print(\"\\nDataset after Expert Input Imputation:\")\n",
    "print(df)\n"
   ]
  },
  {
   "cell_type": "markdown",
   "id": "6c573fb6-76ed-4653-8d3f-99b02cddfd22",
   "metadata": {},
   "source": [
    "#### Creating a 'Missinngness' Feature  ============================"
   ]
  },
  {
   "cell_type": "markdown",
   "id": "cd911c3b-e983-49dd-bc1e-148737bb7c9b",
   "metadata": {},
   "source": [
    "* Treating Missingness as an Informational Variables"
   ]
  },
  {
   "cell_type": "markdown",
   "id": "4b72c74f-8eac-4e9a-955e-3de771087bd7",
   "metadata": {},
   "source": [
    "* Instead of imputing, crate a new binary variable indicating wherher data was missing in a specific column.\n",
    "> Example\n",
    "In a customer dataset, inrtoduce a 'Missing Phone Number' variable to capture whether phone numbers were provided or not."
   ]
  },
  {
   "cell_type": "markdown",
   "id": "cfcab7b6-1b13-41ce-9f39-b0cfc02e2ed6",
   "metadata": {},
   "source": [
    "df['Missinnng_B'] = df['B'].isna().astype(int)"
   ]
  },
  {
   "cell_type": "code",
   "execution_count": 99,
   "id": "d7e3ff62-0fcf-4254-956a-cc3adaf31162",
   "metadata": {},
   "outputs": [
    {
     "name": "stdout",
     "output_type": "stream",
     "text": [
      "Original Dataset:\n",
      "      Name PhoneNumber                Email\n",
      "0    Alice     123-456    alice@example.com\n",
      "1      Bob         NaN      bob@example.com\n",
      "2  Charlie     789-012  charlie@example.com\n",
      "3    David         NaN    david@example.com\n",
      "4      Eva     345-678      eva@example.com\n",
      "\n",
      "Creating a \"Missingness\" Feature:\n",
      "      Name PhoneNumber                Email  Missing_PhoneNumber\n",
      "0    Alice     123-456    alice@example.com                    0\n",
      "1      Bob         NaN      bob@example.com                    1\n",
      "2  Charlie     789-012  charlie@example.com                    0\n",
      "3    David         NaN    david@example.com                    1\n",
      "4      Eva     345-678      eva@example.com                    0\n"
     ]
    }
   ],
   "source": [
    "import pandas as pd\n",
    "import numpy as np\n",
    "\n",
    "# Create a small dataset with missing values in 'PhoneNumber'\n",
    "data = {\n",
    "    'Name': ['Alice', 'Bob', 'Charlie', 'David', 'Eva'],\n",
    "    'PhoneNumber': ['123-456', np.nan, '789-012', np.nan, '345-678'],\n",
    "    'Email': ['alice@example.com', 'bob@example.com', 'charlie@example.com', 'david@example.com', 'eva@example.com']\n",
    "}\n",
    "\n",
    "# Convert to DataFrame\n",
    "df = pd.DataFrame(data)\n",
    "\n",
    "# Display the original dataset\n",
    "print(\"Original Dataset:\")\n",
    "print(df)\n",
    "\n",
    "# Create a new 'Missing_PhoneNumber' column indicating if 'PhoneNumber' is missing\n",
    "df['Missing_PhoneNumber'] = df['PhoneNumber'].isna().astype(int)\n",
    "\n",
    "# Display the dataset with the new \"Missingness\" feature\n",
    "print('\\nCreating a \"Missingness\" Feature:')\n",
    "print(df)\n"
   ]
  },
  {
   "cell_type": "markdown",
   "id": "dd626f9d-96bd-42d5-9acc-6d3292e7e7a1",
   "metadata": {},
   "source": [
    "#### Forward and Backward Filling  ============================"
   ]
  },
  {
   "cell_type": "markdown",
   "id": "05d1ff4f-07b9-405a-affb-2ba56c161ef0",
   "metadata": {},
   "source": [
    "* Use forward filling (carrying the last known value forward) or backward filling (using the next known value) to impute missing values in time series data.\n",
    "  > Example:\n",
    "In a stock price daset, use forward filling to fill in missing daily prices with the last known value."
   ]
  },
  {
   "cell_type": "markdown",
   "id": "05118b46-8711-42e2-9013-dc440103ebd3",
   "metadata": {},
   "source": [
    "* df_forward_fill = df.ffill() - take sample from below NA value\n",
    "* df_backward_fill = df.bfill() - take sample from above NA value"
   ]
  },
  {
   "cell_type": "code",
   "execution_count": 105,
   "id": "3a5f36ab-21a1-40df-9a26-0056fa6ce110",
   "metadata": {},
   "outputs": [
    {
     "name": "stdout",
     "output_type": "stream",
     "text": [
      "Original Dataset:\n",
      "        Date  StockPrice\n",
      "0 2023-10-01       100.0\n",
      "1 2023-10-02         NaN\n",
      "2 2023-10-03       102.0\n",
      "3 2023-10-04         NaN\n",
      "4 2023-10-05       105.0\n",
      "\n",
      "Forward Filling:\n",
      "        Date  StockPrice\n",
      "0 2023-10-01       100.0\n",
      "1 2023-10-02       100.0\n",
      "2 2023-10-03       102.0\n",
      "3 2023-10-04       102.0\n",
      "4 2023-10-05       105.0\n",
      "\n",
      "Backward Filling:\n",
      "        Date  StockPrice\n",
      "0 2023-10-01       100.0\n",
      "1 2023-10-02       102.0\n",
      "2 2023-10-03       102.0\n",
      "3 2023-10-04       105.0\n",
      "4 2023-10-05       105.0\n"
     ]
    }
   ],
   "source": [
    "import pandas as pd\n",
    "import numpy as np\n",
    "\n",
    "# Create a small time series dataset with missing values\n",
    "data = {\n",
    "    'Date': pd.date_range(start='2023-10-01', periods=5, freq='D'),\n",
    "    'StockPrice': [100, np.nan, 102, np.nan, 105]  # Stock prices with some missing values\n",
    "}\n",
    "\n",
    "# Convert to DataFrame\n",
    "df = pd.DataFrame(data)\n",
    "\n",
    "# Display the original dataset\n",
    "print(\"Original Dataset:\")\n",
    "print(df)\n",
    "\n",
    "# Forward fill to carry the last known value forward\n",
    "df_forward_fill = df.ffill()\n",
    "\n",
    "# Backward fill to use the next known value\n",
    "df_backward_fill = df.bfill()\n",
    "\n",
    "# Display the results\n",
    "print(\"\\nForward Filling:\")\n",
    "print(df_forward_fill)\n",
    "\n",
    "print(\"\\nBackward Filling:\")\n",
    "print(df_backward_fill)\n"
   ]
  }
 ],
 "metadata": {
  "kernelspec": {
   "display_name": "Python 3 (ipykernel)",
   "language": "python",
   "name": "python3"
  },
  "language_info": {
   "codemirror_mode": {
    "name": "ipython",
    "version": 3
   },
   "file_extension": ".py",
   "mimetype": "text/x-python",
   "name": "python",
   "nbconvert_exporter": "python",
   "pygments_lexer": "ipython3",
   "version": "3.11.7"
  }
 },
 "nbformat": 4,
 "nbformat_minor": 5
}
